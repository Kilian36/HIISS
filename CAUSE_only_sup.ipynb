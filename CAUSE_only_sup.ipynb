{
  "cells": [
    {
      "cell_type": "code",
      "execution_count": 33,
      "metadata": {
        "colab": {
          "base_uri": "https://localhost:8080/"
        },
        "id": "eLF3RKYyBAXA",
        "outputId": "63133e8b-3601-414f-834c-fa78b18124b2"
      },
      "outputs": [
        {
          "output_type": "stream",
          "name": "stdout",
          "text": [
            "Mounted at /content/drive\n"
          ]
        }
      ],
      "source": [
        "from google.colab import drive\n",
        "drive.mount('/content/drive')"
      ]
    },
    {
      "cell_type": "markdown",
      "metadata": {
        "id": "kDdQ_1B7GboX"
      },
      "source": [
        "# 1. Requirements\n"
      ]
    },
    {
      "cell_type": "code",
      "execution_count": null,
      "metadata": {
        "id": "MIjTafSXozzA"
      },
      "outputs": [],
      "source": [
        "!unzip /content/drive/MyDrive/HIISS/Causal-Unsupervised-Segmentation.zip &> /dev/null\n",
        "!cp -r /content/content/Causal-Unsupervised-Segmentation /content\n",
        "!rm -r /content/content"
      ]
    },
    {
      "cell_type": "code",
      "execution_count": null,
      "metadata": {
        "id": "gvtNGIeKq1kM"
      },
      "outputs": [],
      "source": [
        "!pip install -r /content/Causal-Unsupervised-Segmentation/requirements.txt &> /dev/null\n",
        "!pip install timm==0.9.5 &> /dev/null\n",
        "!pip install git+https://github.com/lucasb-eyer/pydensecrf.git &> /dev/null"
      ]
    },
    {
      "cell_type": "markdown",
      "metadata": {
        "id": "FXUWCgYyVrEX"
      },
      "source": [
        "## 1.1 Get DINO checkpoint"
      ]
    },
    {
      "cell_type": "code",
      "execution_count": null,
      "metadata": {
        "id": "OnG5g-3iVpZR"
      },
      "outputs": [],
      "source": [
        "!mkdir checkpoint\n",
        "!wget https://dl.fbaipublicfiles.com/dino/dino_deitsmall8_pretrain/dino_deitsmall8_pretrain.pth &> /dev/null\n",
        "!mv /content/dino_deitsmall8_pretrain.pth /content/checkpoint/dino_vit_small_8.pth"
      ]
    },
    {
      "cell_type": "markdown",
      "source": [
        "# 2 Train with four classes"
      ],
      "metadata": {
        "id": "wo4HQ6NZBu7j"
      }
    },
    {
      "cell_type": "markdown",
      "metadata": {
        "id": "LoSu-bFJ6hAa"
      },
      "source": [
        "## 2.1 Load pirelli dataset\n",
        "\n",
        "Choose between strided and not strided"
      ]
    },
    {
      "cell_type": "code",
      "execution_count": null,
      "metadata": {
        "id": "DnXPujMYxv3U"
      },
      "outputs": [],
      "source": [
        "!unzip /content/drive/MyDrive/HIISS/datasets/Pirelli_4cat_strided.zip -d /content &> /dev/null"
      ]
    },
    {
      "cell_type": "markdown",
      "metadata": {
        "id": "OqbsnYVt5hus"
      },
      "source": [
        "## 2.2 CAUSE Super Crop\n"
      ]
    },
    {
      "cell_type": "code",
      "execution_count": 51,
      "metadata": {
        "colab": {
          "base_uri": "https://localhost:8080/"
        },
        "id": "UgpVcPNrriR3",
        "outputId": "55c9f011-f7a2-4a3d-f31a-e01e8e861475"
      },
      "outputs": [
        {
          "output_type": "stream",
          "name": "stdout",
          "text": [
            "Device = cuda:0\n",
            "100% 130/130 [00:28<00:00,  4.61it/s]\n"
          ]
        }
      ],
      "source": [
        "!python ./Causal-Unsupervised-Segmentation/crop_dataset.py  --data_dir \"Pirelli_4cat\" --dataset \"pirelli\" --crop_type \"super\""
      ]
    },
    {
      "cell_type": "markdown",
      "metadata": {
        "id": "MQnyabmO5xw3"
      },
      "source": [
        "## 2.3 Train the mediator\n",
        "Namely get the clusterbook"
      ]
    },
    {
      "cell_type": "code",
      "execution_count": 62,
      "metadata": {
        "colab": {
          "base_uri": "https://localhost:8080/"
        },
        "id": "MZbrRSLBcXGm",
        "outputId": "0975b1a3-67d1-4b21-fa23-a21bfd7497a2"
      },
      "outputs": [
        {
          "output_type": "stream",
          "name": "stdout",
          "text": [
            "------------------Configurations------------------\n",
            "epoch: 3\n",
            "distributed: True\n",
            "load_segment: False\n",
            "load_cluster: False\n",
            "train_resolution: 320\n",
            "test_resolution: 320\n",
            "batch_size: 16\n",
            "num_workers: 0\n",
            "data_dir: Pirelli_4cat\n",
            "dataset: pirelli\n",
            "ckpt: /content/checkpoint/dino_vit_small_8.pth\n",
            "gpu: 0\n",
            "port: 12355\n",
            "grid: True\n",
            "num_codebook: 2048\n",
            "reduced_dim: 90\n",
            "projection_dim: 2048\n",
            "dim: 384\n",
            "-------------------------------------------------\n",
            "_IncompatibleKeys(missing_keys=['head.weight', 'head.bias'], unexpected_keys=[])\n",
            "No File Exists!!\n",
            "-------------TRAIN EPOCH: 1-------------\n",
            "[Train]: 100% 407/407 [01:56<00:00,  3.49it/s]\n",
            "-------------TRAIN EPOCH: 2-------------\n",
            "[Train]: 100% 407/407 [01:55<00:00,  3.53it/s]\n",
            "-------------TRAIN EPOCH: 3-------------\n",
            "[Train]: 100% 407/407 [01:55<00:00,  3.53it/s]\n"
          ]
        }
      ],
      "source": [
        "!python ./Causal-Unsupervised-Segmentation/train_mediator.py \\\n",
        "                          --data_dir \"Pirelli_4cat\" --dataset \"pirelli\" \\\n",
        "                          --ckpt \"/content/checkpoint/dino_vit_small_8.pth\" \\\n",
        "                          --gpu 0 --epoch 3"
      ]
    },
    {
      "cell_type": "markdown",
      "metadata": {
        "id": "b7b9HTWB9n4k"
      },
      "source": [
        "## 2.4 Train the transformer segmentator.\n",
        "\n",
        "The clusterbook is fixed. Now, we train the transformer segmentator"
      ]
    },
    {
      "cell_type": "code",
      "execution_count": 63,
      "metadata": {
        "colab": {
          "base_uri": "https://localhost:8080/"
        },
        "id": "vS7hWlQCnIQe",
        "outputId": "18258f2e-3f73-47dc-f211-5ca015e21710"
      },
      "outputs": [
        {
          "output_type": "stream",
          "name": "stdout",
          "text": [
            "------------------Configurations------------------\n",
            "NAME_TAG: CAUSE-TR\n",
            "data_dir: Pirelli_4cat\n",
            "dataset: pirelli\n",
            "ckpt: /content/checkpoint/dino_vit_small_8.pth\n",
            "epoch: 5\n",
            "distributed: False\n",
            "load_segment: False\n",
            "load_cluster: False\n",
            "train_resolution: 320\n",
            "test_resolution: 320\n",
            "batch_size: 16\n",
            "num_workers: 0\n",
            "gpu: 0\n",
            "port: 12355\n",
            "grid: True\n",
            "num_codebook: 2048\n",
            "reduced_dim: 90\n",
            "projection_dim: 2048\n",
            "dim: 384\n",
            "num_queries: 1600\n",
            "-------------------------------------------------\n",
            "_IncompatibleKeys(missing_keys=['head.weight', 'head.bias'], unexpected_keys=[])\n",
            "4\n",
            "Modularity CAUSE/pirelli/modularity/dino_vit_small_8/2048/modular.npy loaded\n",
            "-------------TRAIN EPOCH: 1-------------\n",
            "[Train] Loss: 7.17=6.84+0.33 ACC: 89.0%: 100% 407/407 [04:00<00:00,  1.69it/s]\n",
            "-------------TEST EPOCH: 1-------------\n",
            "[TEST] Acc (Linear): 93.0%: 100% 3/3 [00:01<00:00,  2.31it/s]\n",
            "-----------------TEST Epoch 0: SAVING CHECKPOINT IN CAUSE/pirelli/dino_vit_small_8/2048/segment_tr.pth-----------------\n",
            "-------------TRAIN EPOCH: 2-------------\n",
            "[Train] Loss: 7.05=6.78+0.26 ACC: 90.8%: 100% 407/407 [03:59<00:00,  1.70it/s]\n",
            "-------------TEST EPOCH: 2-------------\n",
            "[TEST] Acc (Linear): 92.1%: 100% 3/3 [00:01<00:00,  2.44it/s]\n",
            "-----------------TEST Epoch 1: SAVING CHECKPOINT IN CAUSE/pirelli/dino_vit_small_8/2048/segment_tr.pth-----------------\n",
            "-------------TRAIN EPOCH: 3-------------\n",
            "[Train] Loss: 7.03=6.77+0.26 ACC: 91.0%: 100% 407/407 [03:59<00:00,  1.70it/s]\n",
            "-------------TEST EPOCH: 3-------------\n",
            "[TEST] Acc (Linear): 92.3%: 100% 3/3 [00:01<00:00,  2.45it/s]\n",
            "-----------------TEST Epoch 2: SAVING CHECKPOINT IN CAUSE/pirelli/dino_vit_small_8/2048/segment_tr.pth-----------------\n",
            "-------------TRAIN EPOCH: 4-------------\n",
            "[Train] Loss: 7.02=6.77+0.25 ACC: 91.5%: 100% 407/407 [04:00<00:00,  1.69it/s]\n",
            "-------------TEST EPOCH: 4-------------\n",
            "[TEST] Acc (Linear): 93.5%: 100% 3/3 [00:01<00:00,  2.46it/s]\n",
            "-----------------TEST Epoch 3: SAVING CHECKPOINT IN CAUSE/pirelli/dino_vit_small_8/2048/segment_tr.pth-----------------\n",
            "-------------TRAIN EPOCH: 5-------------\n",
            "[Train] Loss: 7.02=6.77+0.25 ACC: 91.6%: 100% 407/407 [04:00<00:00,  1.69it/s]\n",
            "-------------TEST EPOCH: 5-------------\n",
            "[TEST] Acc (Linear): 93.6%: 100% 3/3 [00:01<00:00,  2.44it/s]\n",
            "-----------------TEST Epoch 4: SAVING CHECKPOINT IN CAUSE/pirelli/dino_vit_small_8/2048/segment_tr.pth-----------------\n"
          ]
        }
      ],
      "source": [
        "!python ./Causal-Unsupervised-Segmentation/train_front_door_tr.py \\\n",
        "          --data_dir \"Pirelli_4cat\" --dataset \"pirelli\" \\\n",
        "          --ckpt \"/content/checkpoint/dino_vit_small_8.pth\" \\\n",
        "          --gpu 0 --epoch 5 --batch_size 16"
      ]
    },
    {
      "cell_type": "markdown",
      "metadata": {
        "id": "ZoB6RYjVOg_Q"
      },
      "source": [
        "## 2.5 Fine tuning\n",
        "\n",
        "Now, we fine tune the transformer and the clustebook. Twice following empirical results."
      ]
    },
    {
      "cell_type": "code",
      "execution_count": 64,
      "metadata": {
        "colab": {
          "base_uri": "https://localhost:8080/"
        },
        "id": "XV3A3Z_4Oiu9",
        "outputId": "cd2eed72-30f3-4019-c32c-ad19c1e9bd21"
      },
      "outputs": [
        {
          "output_type": "stream",
          "name": "stdout",
          "text": [
            "------------------Configurations------------------\n",
            "NAME_TAG: CAUSE-TR\n",
            "data_dir: Pirelli_4cat\n",
            "dataset: pirelli\n",
            "ckpt: /content/checkpoint/dino_vit_small_8.pth\n",
            "epoch: 3\n",
            "distributed: True\n",
            "load_segment: True\n",
            "load_cluster: False\n",
            "train_resolution: 320\n",
            "test_resolution: 320\n",
            "batch_size: 16\n",
            "num_workers: 0\n",
            "gpu: 0\n",
            "port: 12355\n",
            "grid: True\n",
            "num_codebook: 2048\n",
            "reduced_dim: 90\n",
            "projection_dim: 2048\n",
            "dim: 384\n",
            "num_queries: 1600\n",
            "-------------------------------------------------\n",
            "_IncompatibleKeys(missing_keys=['head.weight', 'head.bias'], unexpected_keys=[])\n",
            "4\n",
            "[Segment] CAUSE/pirelli/dino_vit_small_8/2048/segment_tr.pth loaded\n",
            "Modularity CAUSE/pirelli/modularity/dino_vit_small_8/2048/modular.npy loaded\n",
            "-------------TRAIN EPOCH: 1-------------\n",
            "[Train] Loss: -0.00=0.10-0.10 ACC: 96.6%: 100% 407/407 [02:49<00:00,  2.41it/s]\n",
            "-------------TEST EPOCH: 1-------------\n",
            "[TEST] Acc (Linear): 97.9% | [mIoU]: 47.3, [mAP]: 55.5, [Acc]: 93.8, : 100% 3/3 [00:01<00:00,  2.17it/s]\n",
            "-----------------TEST Epoch 0: SAVING CHECKPOINT IN CAUSE/pirelli/dino_vit_small_8/2048/cluster_tr.pth-----------------\n",
            "-------------TRAIN EPOCH: 2-------------\n",
            "[Train] Loss: -0.07=0.06-0.13 ACC: 97.7%: 100% 407/407 [02:47<00:00,  2.43it/s]\n",
            "-------------TEST EPOCH: 2-------------\n",
            "[TEST] Acc (Linear): 98.0% | [mIoU]: 47.4, [mAP]: 58.6, [Acc]: 94.0, : 100% 3/3 [00:01<00:00,  2.26it/s]\n",
            "-----------------TEST Epoch 1: SAVING CHECKPOINT IN CAUSE/pirelli/dino_vit_small_8/2048/cluster_tr.pth-----------------\n",
            "-------------TRAIN EPOCH: 3-------------\n",
            "[Train] Loss: -0.08=0.05-0.13 ACC: 98.1%: 100% 407/407 [02:47<00:00,  2.42it/s]\n",
            "-------------TEST EPOCH: 3-------------\n",
            "[TEST] Acc (Linear): 98.1% | [mIoU]: 47.1, [mAP]: 51.6, [Acc]: 94.0, : 100% 3/3 [00:01<00:00,  2.39it/s]\n",
            "-----------------TEST Epoch 2: SAVING CHECKPOINT IN CAUSE/pirelli/dino_vit_small_8/2048/cluster_tr.pth-----------------\n"
          ]
        }
      ],
      "source": [
        "!python /content/Causal-Unsupervised-Segmentation/fine_tuning_tr.py \\\n",
        "          --data_dir \"Pirelli_4cat\" --dataset \"pirelli\" \\\n",
        "          --ckpt \"/content/checkpoint/dino_vit_small_8.pth\"  \\\n",
        "          --gpu 0 --epoch 3 --batch_size 16 --load_segment True \\\n",
        "          --load_cluster False"
      ]
    },
    {
      "cell_type": "markdown",
      "source": [
        "### Phase 2 retrain using the old cluster book."
      ],
      "metadata": {
        "id": "_1lmkYkwvOnV"
      }
    },
    {
      "cell_type": "code",
      "source": [
        "!python /content/Causal-Unsupervised-Segmentation/fine_tuning_tr.py \\\n",
        "          --data_dir \"Pirelli_4cat\" --dataset \"pirelli\" \\\n",
        "          --ckpt \"/content/checkpoint/dino_vit_small_8.pth\"  \\\n",
        "          --gpu 0 --epoch 1 --batch_size 16 --load_segment True \\\n",
        "          --load_cluster False"
      ],
      "metadata": {
        "colab": {
          "base_uri": "https://localhost:8080/"
        },
        "id": "xvoEORAhvOCp",
        "outputId": "131d9a74-01b3-4571-fdf2-e3abf5aa428c"
      },
      "execution_count": 65,
      "outputs": [
        {
          "output_type": "stream",
          "name": "stdout",
          "text": [
            "------------------Configurations------------------\n",
            "NAME_TAG: CAUSE-TR\n",
            "data_dir: Pirelli_4cat\n",
            "dataset: pirelli\n",
            "ckpt: /content/checkpoint/dino_vit_small_8.pth\n",
            "epoch: 1\n",
            "distributed: True\n",
            "load_segment: True\n",
            "load_cluster: False\n",
            "train_resolution: 320\n",
            "test_resolution: 320\n",
            "batch_size: 16\n",
            "num_workers: 0\n",
            "gpu: 0\n",
            "port: 12355\n",
            "grid: True\n",
            "num_codebook: 2048\n",
            "reduced_dim: 90\n",
            "projection_dim: 2048\n",
            "dim: 384\n",
            "num_queries: 1600\n",
            "-------------------------------------------------\n",
            "_IncompatibleKeys(missing_keys=['head.weight', 'head.bias'], unexpected_keys=[])\n",
            "4\n",
            "[Segment] CAUSE/pirelli/dino_vit_small_8/2048/segment_tr.pth loaded\n",
            "Modularity CAUSE/pirelli/modularity/dino_vit_small_8/2048/modular.npy loaded\n",
            "-------------TRAIN EPOCH: 1-------------\n",
            "[Train] Loss: -0.07=0.05-0.12 ACC: 97.9%: 100% 407/407 [02:49<00:00,  2.40it/s]\n",
            "-------------TEST EPOCH: 1-------------\n",
            "[TEST] Acc (Linear): 98.1% | [mIoU]: 67.0, [mAP]: 70.0, [Acc]: 97.9, : 100% 3/3 [00:01<00:00,  2.13it/s]\n",
            "-----------------TEST Epoch 0: SAVING CHECKPOINT IN CAUSE/pirelli/dino_vit_small_8/2048/cluster_tr.pth-----------------\n"
          ]
        }
      ]
    },
    {
      "cell_type": "markdown",
      "metadata": {
        "id": "AXWVjkep9stB"
      },
      "source": [
        "## 2.6 Test the model"
      ]
    },
    {
      "cell_type": "code",
      "execution_count": 66,
      "metadata": {
        "colab": {
          "base_uri": "https://localhost:8080/"
        },
        "id": "LHSMkeNqnXiX",
        "outputId": "8dc9e741-f714-4193-d77e-01118e485f02"
      },
      "outputs": [
        {
          "output_type": "stream",
          "name": "stdout",
          "text": [
            "------------------Configurations------------------\n",
            "NAME_TAG: CAUSE-TR\n",
            "data_dir: Pirelli_4cat\n",
            "dataset: pirelli\n",
            "port: 12355\n",
            "ckpt: /content/checkpoint/dino_vit_small_8.pth\n",
            "distributed: False\n",
            "load_segment: True\n",
            "load_cluster: True\n",
            "train_resolution: 320\n",
            "test_resolution: 320\n",
            "batch_size: 16\n",
            "num_workers: 0\n",
            "gpu: 0\n",
            "num_codebook: 2048\n",
            "just_imgs: False\n",
            "reduced_dim: 90\n",
            "projection_dim: 2048\n",
            "dim: 384\n",
            "num_queries: 1600\n",
            "-------------------------------------------------\n",
            "_IncompatibleKeys(missing_keys=['head.weight', 'head.bias'], unexpected_keys=[])\n",
            "4\n",
            "[Segment] CAUSE/pirelli/dino_vit_small_8/2048/segment_tr.pth loaded\n",
            "[Cluster] CAUSE/pirelli/dino_vit_small_8/2048/cluster_tr.pth loaded\n",
            "Modularity CAUSE/pirelli/modularity/dino_vit_small_8/2048/modular.npy loaded\n",
            "# of Parameters: 3.59(M)\n",
            "Test without CRF\n",
            "[TEST] Acc (Linear): 98.1% | [mIoU]: 67.0, [mAP]: 70.0, [Acc]: 97.9, : 100% 3/3 [00:02<00:00,  1.39it/s]\n",
            "OrderedDict([('mIoU', tensor([97.6686, 96.7288, 73.6104,  0.0000], device='cuda:0')), ('mAP', tensor([99.0600, 98.2856, 82.5434,  0.0000], device='cuda:0')), ('Acc', tensor([99.0600, 98.2856, 82.5434,  0.0000], device='cuda:0'))])\n",
            "\n",
            "Test linear no cfr\n",
            "[mIoU]: 68.2, [mAP]: 71.5, [Acc]: 98.2, : 100% 3/3 [00:03<00:00,  1.18s/it]\n",
            "OrderedDict([('mIoU', tensor([98.0364, 96.8529, 77.8230,  0.0000], device='cuda:0')), ('mAP', tensor([98.9171, 98.3992, 88.6343,  0.0000], device='cuda:0')), ('Acc', tensor([98.9171, 98.3992, 88.6343,  0.0000], device='cuda:0'))])\n",
            "\n",
            "Test linear\n",
            "[mIoU]: 67.8, [mAP]: 72.6, [Acc]: 98.2, : 100% 3/3 [00:45<00:00, 15.16s/it]\n",
            "OrderedDict([('mIoU', tensor([98.0582, 96.5905, 76.5550,  0.0000], device='cuda:0')), ('mAP', tensor([98.6897, 97.6715, 93.8425,  0.0000], device='cuda:0')), ('Acc', tensor([98.6897, 97.6715, 93.8425,  0.0000], device='cuda:0'))])\n",
            "\n",
            "Test\n",
            "[mIoU]: 89.9, [mAP]: 96.3, [Acc]: 98.1, : 100% 3/3 [00:48<00:00, 16.03s/it]\n",
            "OrderedDict([('mIoU', tensor([97.9797, 96.1624, 75.4634,     nan], device='cuda:0')), ('mAP', tensor([98.7488, 97.2272, 92.8059,     nan], device='cuda:0')), ('Acc', tensor([98.7488, 97.2272, 92.8059,     nan], device='cuda:0'))])\n",
            "\n"
          ]
        }
      ],
      "source": [
        "!python /content/Causal-Unsupervised-Segmentation/test_tr.py \\\n",
        "        --data_dir \"Pirelli_4cat\" --dataset \"pirelli\" \\\n",
        "        --ckpt \"/content/checkpoint/dino_vit_small_8.pth\" \\\n",
        "        --load_segment True --load_cluster True"
      ]
    },
    {
      "cell_type": "markdown",
      "metadata": {
        "id": "9TN7ME9hrEst"
      },
      "source": [
        "## 2.7 Save Results and checkpoints"
      ]
    },
    {
      "cell_type": "code",
      "execution_count": 67,
      "metadata": {
        "id": "6PsbhvM0uK_q"
      },
      "outputs": [],
      "source": [
        "!zip -r results_only_sup_4classes_strided.zip ./results &> /dev/null"
      ]
    },
    {
      "cell_type": "code",
      "execution_count": 68,
      "metadata": {
        "id": "VGXWiI4B9Xbr"
      },
      "outputs": [],
      "source": [
        "!zip -r /content/CAUSE_only_sup_4classes_strided.zip ./CAUSE &> /dev/null"
      ]
    },
    {
      "cell_type": "code",
      "execution_count": 69,
      "metadata": {
        "id": "wDhCl3CshPe5"
      },
      "outputs": [],
      "source": [
        "!mv /content/results_only_sup_4classes_strided.zip /content/drive/MyDrive/HIISS/results\n",
        "!mv /content/CAUSE_only_sup_4classes_strided.zip /content/drive/MyDrive/HIISS/checkpoints"
      ]
    },
    {
      "cell_type": "markdown",
      "metadata": {
        "id": "EHujnr9gzs5X"
      },
      "source": [
        "# 3 Train with three classes\n",
        "\n",
        "\n"
      ]
    },
    {
      "cell_type": "code",
      "execution_count": null,
      "metadata": {
        "id": "2RZ_Xoxxzweq"
      },
      "outputs": [],
      "source": [
        "!rm -r /content/CAUSE # If retrain all"
      ]
    },
    {
      "cell_type": "markdown",
      "metadata": {
        "id": "F2sQ602ez-JR"
      },
      "source": [
        "## 3.1 Load Pirelli 3 classes dataset"
      ]
    },
    {
      "cell_type": "code",
      "execution_count": null,
      "metadata": {
        "id": "g6R2q9iTz8d0"
      },
      "outputs": [],
      "source": [
        "!unzip /content/drive/MyDrive/HIISS/datasets/Pirelli_3cat_no_stride.zip -d /content &> /dev/null"
      ]
    },
    {
      "cell_type": "markdown",
      "metadata": {
        "id": "33ZWIfX90JHF"
      },
      "source": [
        "## 3.2 Crop dataset"
      ]
    },
    {
      "cell_type": "code",
      "execution_count": null,
      "metadata": {
        "colab": {
          "base_uri": "https://localhost:8080/"
        },
        "id": "eumoMpso0R9a",
        "outputId": "3baf7618-3837-4764-b92e-bde78645c9d3"
      },
      "outputs": [
        {
          "output_type": "stream",
          "name": "stdout",
          "text": [
            "Device = cuda:0\n",
            "100% 130/130 [00:27<00:00,  4.69it/s]\n"
          ]
        }
      ],
      "source": [
        "!python ./Causal-Unsupervised-Segmentation/crop_dataset.py --data_dir \"Pirelli_3cat\" --dataset \"pirelli\" --crop_type \"super\""
      ]
    },
    {
      "cell_type": "markdown",
      "metadata": {
        "id": "ZRKXURLz0oyJ"
      },
      "source": [
        "## 3.3 Train Mediator"
      ]
    },
    {
      "cell_type": "code",
      "execution_count": null,
      "metadata": {
        "id": "zMiZVTIf0r5R",
        "colab": {
          "base_uri": "https://localhost:8080/"
        },
        "outputId": "bd19935c-d69a-4d41-ed14-6cd29bb2f3f8"
      },
      "outputs": [
        {
          "output_type": "stream",
          "name": "stdout",
          "text": [
            "------------------Configurations------------------\n",
            "epoch: 3\n",
            "distributed: True\n",
            "load_segment: False\n",
            "load_cluster: False\n",
            "train_resolution: 320\n",
            "test_resolution: 320\n",
            "batch_size: 16\n",
            "num_workers: 0\n",
            "data_dir: Pirelli_3cat\n",
            "dataset: pirelli\n",
            "ckpt: /content/checkpoint/dino_vit_small_8.pth\n",
            "gpu: 0\n",
            "port: 12355\n",
            "grid: True\n",
            "num_codebook: 2048\n",
            "reduced_dim: 90\n",
            "projection_dim: 2048\n",
            "dim: 384\n",
            "-------------------------------------------------\n",
            "_IncompatibleKeys(missing_keys=['head.weight', 'head.bias'], unexpected_keys=[])\n",
            "No File Exists!!\n",
            "-------------TRAIN EPOCH: 1-------------\n",
            "[Train]: 100% 407/407 [01:55<00:00,  3.53it/s]\n",
            "-------------TRAIN EPOCH: 2-------------\n",
            "[Train]: 100% 407/407 [01:54<00:00,  3.55it/s]\n",
            "-------------TRAIN EPOCH: 3-------------\n",
            "[Train]: 100% 407/407 [01:54<00:00,  3.54it/s]\n"
          ]
        }
      ],
      "source": [
        "!python ./Causal-Unsupervised-Segmentation/train_mediator.py \\\n",
        "                          --data_dir \"Pirelli_3cat\" --dataset \"pirelli\" \\\n",
        "                          --ckpt \"/content/checkpoint/dino_vit_small_8.pth\" \\\n",
        "                          --gpu 0 --epoch 3"
      ]
    },
    {
      "cell_type": "markdown",
      "metadata": {
        "id": "wJboVx7A0uyf"
      },
      "source": [
        "## 3.4 Train Transformer"
      ]
    },
    {
      "cell_type": "code",
      "execution_count": null,
      "metadata": {
        "id": "jSbSZuvT0w9I",
        "colab": {
          "base_uri": "https://localhost:8080/"
        },
        "outputId": "f1fd3b25-83e7-4339-dfaa-c0744b3182fc"
      },
      "outputs": [
        {
          "output_type": "stream",
          "name": "stdout",
          "text": [
            "------------------Configurations------------------\n",
            "NAME_TAG: CAUSE-TR\n",
            "data_dir: Pirelli_3cat\n",
            "dataset: pirelli\n",
            "ckpt: /content/checkpoint/dino_vit_small_8.pth\n",
            "epoch: 4\n",
            "distributed: False\n",
            "load_segment: False\n",
            "load_cluster: False\n",
            "train_resolution: 320\n",
            "test_resolution: 320\n",
            "batch_size: 16\n",
            "num_workers: 0\n",
            "gpu: 0\n",
            "port: 12355\n",
            "grid: True\n",
            "num_codebook: 2048\n",
            "reduced_dim: 90\n",
            "projection_dim: 2048\n",
            "dim: 384\n",
            "num_queries: 1600\n",
            "-------------------------------------------------\n",
            "_IncompatibleKeys(missing_keys=['head.weight', 'head.bias'], unexpected_keys=[])\n",
            "3\n",
            "Modularity CAUSE/pirelli/modularity/dino_vit_small_8/2048/modular.npy loaded\n",
            "-------------TRAIN EPOCH: 1-------------\n",
            "[Train] Loss: 7.19=6.84+0.35 ACC: 87.1%: 100% 407/407 [03:57<00:00,  1.71it/s]\n",
            "-------------TEST EPOCH: 1-------------\n",
            "[TEST] Acc (Linear): 91.8%: 100% 3/3 [00:01<00:00,  2.37it/s]\n",
            "-----------------TEST Epoch 0: SAVING CHECKPOINT IN CAUSE/pirelli/dino_vit_small_8/2048/segment_tr.pth-----------------\n",
            "-------------TRAIN EPOCH: 2-------------\n",
            "[Train] Loss: 7.05=6.78+0.27 ACC: 89.9%: 100% 407/407 [03:56<00:00,  1.72it/s]\n",
            "-------------TEST EPOCH: 2-------------\n",
            "[TEST] Acc (Linear): 92.0%: 100% 3/3 [00:01<00:00,  2.54it/s]\n",
            "-----------------TEST Epoch 1: SAVING CHECKPOINT IN CAUSE/pirelli/dino_vit_small_8/2048/segment_tr.pth-----------------\n",
            "-------------TRAIN EPOCH: 3-------------\n",
            "[Train] Loss: 7.03=6.77+0.26 ACC: 90.2%: 100% 407/407 [03:56<00:00,  1.72it/s]\n",
            "-------------TEST EPOCH: 3-------------\n",
            "[TEST] Acc (Linear): 93.0%: 100% 3/3 [00:01<00:00,  2.47it/s]\n",
            "-----------------TEST Epoch 2: SAVING CHECKPOINT IN CAUSE/pirelli/dino_vit_small_8/2048/segment_tr.pth-----------------\n",
            "-------------TRAIN EPOCH: 4-------------\n",
            "[Train] Loss: 7.03=6.77+0.26 ACC: 90.5%: 100% 407/407 [03:55<00:00,  1.73it/s]\n",
            "-------------TEST EPOCH: 4-------------\n",
            "[TEST] Acc (Linear): 92.6%: 100% 3/3 [00:01<00:00,  2.19it/s]\n",
            "-----------------TEST Epoch 3: SAVING CHECKPOINT IN CAUSE/pirelli/dino_vit_small_8/2048/segment_tr.pth-----------------\n"
          ]
        }
      ],
      "source": [
        "!python ./Causal-Unsupervised-Segmentation/train_front_door_tr.py \\\n",
        "          --data_dir \"Pirelli_3cat\" --dataset \"pirelli\" \\\n",
        "          --ckpt \"/content/checkpoint/dino_vit_small_8.pth\" \\\n",
        "          --gpu 0 --epoch 4 --batch_size 16"
      ]
    },
    {
      "cell_type": "markdown",
      "metadata": {
        "id": "jy9ph_NB042v"
      },
      "source": [
        "## 3.5 Fine-tuning"
      ]
    },
    {
      "cell_type": "code",
      "execution_count": null,
      "metadata": {
        "id": "lc8bHCFb059Z",
        "colab": {
          "base_uri": "https://localhost:8080/"
        },
        "outputId": "38992d56-c3e4-4241-a4cb-e02a17186221"
      },
      "outputs": [
        {
          "output_type": "stream",
          "name": "stdout",
          "text": [
            "------------------Configurations------------------\n",
            "NAME_TAG: CAUSE-TR\n",
            "data_dir: Pirelli_3cat\n",
            "dataset: pirelli\n",
            "ckpt: /content/checkpoint/dino_vit_small_8.pth\n",
            "epoch: 2\n",
            "distributed: True\n",
            "load_segment: True\n",
            "load_cluster: False\n",
            "train_resolution: 320\n",
            "test_resolution: 320\n",
            "batch_size: 16\n",
            "num_workers: 0\n",
            "gpu: 0\n",
            "port: 12355\n",
            "grid: True\n",
            "num_codebook: 2048\n",
            "reduced_dim: 90\n",
            "projection_dim: 2048\n",
            "dim: 384\n",
            "num_queries: 1600\n",
            "-------------------------------------------------\n",
            "_IncompatibleKeys(missing_keys=['head.weight', 'head.bias'], unexpected_keys=[])\n",
            "3\n",
            "[Segment] CAUSE/pirelli/dino_vit_small_8/2048/segment_tr.pth loaded\n",
            "Modularity CAUSE/pirelli/modularity/dino_vit_small_8/2048/modular.npy loaded\n",
            "-------------TRAIN EPOCH: 1-------------\n",
            "[Train] Loss: -0.02=0.10-0.12 ACC: 96.4%: 100% 407/407 [02:48<00:00,  2.42it/s]\n",
            "-------------TEST EPOCH: 1-------------\n",
            "[TEST] Acc (Linear): 97.9% | [mIoU]: 87.1, [mAP]: 92.2, [Acc]: 97.3, : 100% 3/3 [00:01<00:00,  2.17it/s]\n",
            "-----------------TEST Epoch 0: SAVING CHECKPOINT IN CAUSE/pirelli/dino_vit_small_8/2048/cluster_tr.pth-----------------\n",
            "-------------TRAIN EPOCH: 2-------------\n",
            "[Train] Loss: -0.10=0.06-0.16 ACC: 97.6%: 100% 407/407 [02:46<00:00,  2.45it/s]\n",
            "-------------TEST EPOCH: 2-------------\n",
            "[TEST] Acc (Linear): 97.9% | [mIoU]: 87.1, [mAP]: 90.2, [Acc]: 97.2, : 100% 3/3 [00:01<00:00,  2.38it/s]\n",
            "-----------------TEST Epoch 1: SAVING CHECKPOINT IN CAUSE/pirelli/dino_vit_small_8/2048/cluster_tr.pth-----------------\n"
          ]
        }
      ],
      "source": [
        "!python /content/Causal-Unsupervised-Segmentation/fine_tuning_tr.py \\\n",
        "          --data_dir \"Pirelli_3cat\" --dataset \"pirelli\" \\\n",
        "          --ckpt \"/content/checkpoint/dino_vit_small_8.pth\"  \\\n",
        "          --gpu 0 --epoch 2 --batch_size 16 --load_segment True \\\n",
        "          --load_cluster False"
      ]
    },
    {
      "cell_type": "markdown",
      "source": [
        "## 3.6 Retrain with the old clusterbook"
      ],
      "metadata": {
        "id": "rJS4Er7IwCbG"
      }
    },
    {
      "cell_type": "code",
      "source": [
        "!python /content/Causal-Unsupervised-Segmentation/fine_tuning_tr.py \\\n",
        "          --data_dir \"Pirelli_3cat\" --dataset \"pirelli\" \\\n",
        "          --ckpt \"/content/checkpoint/dino_vit_small_8.pth\"  \\\n",
        "          --gpu 0 --epoch 1 --batch_size 16 --load_segment True \\\n",
        "          --load_cluster False"
      ],
      "metadata": {
        "colab": {
          "base_uri": "https://localhost:8080/"
        },
        "id": "qJg2DJ7XwAWb",
        "outputId": "018e3ce8-7bb5-4a3e-8ccb-affa55142e90"
      },
      "execution_count": null,
      "outputs": [
        {
          "output_type": "stream",
          "name": "stdout",
          "text": [
            "------------------Configurations------------------\n",
            "NAME_TAG: CAUSE-TR\n",
            "data_dir: Pirelli_3cat\n",
            "dataset: pirelli\n",
            "ckpt: /content/checkpoint/dino_vit_small_8.pth\n",
            "epoch: 1\n",
            "distributed: True\n",
            "load_segment: True\n",
            "load_cluster: False\n",
            "train_resolution: 320\n",
            "test_resolution: 320\n",
            "batch_size: 16\n",
            "num_workers: 0\n",
            "gpu: 0\n",
            "port: 12355\n",
            "grid: True\n",
            "num_codebook: 2048\n",
            "reduced_dim: 90\n",
            "projection_dim: 2048\n",
            "dim: 384\n",
            "num_queries: 1600\n",
            "-------------------------------------------------\n",
            "_IncompatibleKeys(missing_keys=['head.weight', 'head.bias'], unexpected_keys=[])\n",
            "3\n",
            "[Segment] CAUSE/pirelli/dino_vit_small_8/2048/segment_tr.pth loaded\n",
            "Modularity CAUSE/pirelli/modularity/dino_vit_small_8/2048/modular.npy loaded\n",
            "-------------TRAIN EPOCH: 1-------------\n",
            "[Train] Loss: -0.06=0.05-0.11 ACC: 97.9%: 100% 407/407 [02:48<00:00,  2.41it/s]\n",
            "-------------TEST EPOCH: 1-------------\n",
            "[TEST] Acc (Linear): 98.0% | [mIoU]: 88.9, [mAP]: 91.6, [Acc]: 97.7, : 100% 3/3 [00:01<00:00,  1.92it/s]\n",
            "-----------------TEST Epoch 0: SAVING CHECKPOINT IN CAUSE/pirelli/dino_vit_small_8/2048/cluster_tr.pth-----------------\n"
          ]
        }
      ]
    },
    {
      "cell_type": "markdown",
      "metadata": {
        "id": "KBjcBPN8078Z"
      },
      "source": [
        "# Test Model"
      ]
    },
    {
      "cell_type": "code",
      "execution_count": null,
      "metadata": {
        "id": "EGIJ0dWT0_fj",
        "colab": {
          "base_uri": "https://localhost:8080/"
        },
        "outputId": "000988c4-a63c-45fb-8ee8-3121b43e428b"
      },
      "outputs": [
        {
          "output_type": "stream",
          "name": "stdout",
          "text": [
            "------------------Configurations------------------\n",
            "NAME_TAG: CAUSE-TR\n",
            "data_dir: Pirelli_3cat\n",
            "dataset: pirelli\n",
            "port: 12355\n",
            "ckpt: /content/checkpoint/dino_vit_small_8.pth\n",
            "distributed: False\n",
            "load_segment: True\n",
            "load_cluster: True\n",
            "train_resolution: 320\n",
            "test_resolution: 320\n",
            "batch_size: 16\n",
            "num_workers: 0\n",
            "gpu: 0\n",
            "num_codebook: 2048\n",
            "just_imgs: False\n",
            "reduced_dim: 90\n",
            "projection_dim: 2048\n",
            "dim: 384\n",
            "num_queries: 1600\n",
            "-------------------------------------------------\n",
            "_IncompatibleKeys(missing_keys=['head.weight', 'head.bias'], unexpected_keys=[])\n",
            "3\n",
            "[Segment] CAUSE/pirelli/dino_vit_small_8/2048/segment_tr.pth loaded\n",
            "[Cluster] CAUSE/pirelli/dino_vit_small_8/2048/cluster_tr.pth loaded\n",
            "Modularity CAUSE/pirelli/modularity/dino_vit_small_8/2048/modular.npy loaded\n",
            "# of Parameters: 3.59(M)\n",
            "Test without CRF\n",
            "[TEST] Acc (Linear): 98.0% | [mIoU]: 88.9, [mAP]: 91.6, [Acc]: 97.7, : 100% 3/3 [00:02<00:00,  1.27it/s]\n",
            "OrderedDict([('mIoU', tensor([97.3722, 96.2258, 73.0141], device='cuda:0')), ('mAP', tensor([99.5882, 97.7171, 77.3853], device='cuda:0')), ('Acc', tensor([99.5882, 97.7171, 77.3853], device='cuda:0'))])\n",
            "\n",
            "Test linear no cfr\n",
            "[mIoU]: 90.4, [mAP]: 94.2, [Acc]: 98.1, : 100% 3/3 [00:03<00:00,  1.11s/it]\n",
            "OrderedDict([('mIoU', tensor([98.0298, 96.4607, 76.6557], device='cuda:0')), ('mAP', tensor([99.0789, 98.4136, 85.1681], device='cuda:0')), ('Acc', tensor([99.0789, 98.4136, 85.1681], device='cuda:0'))])\n",
            "\n",
            "Test linear\n",
            "[mIoU]: 90.4, [mAP]: 96.0, [Acc]: 98.2, : 100% 3/3 [00:44<00:00, 14.67s/it]\n",
            "OrderedDict([('mIoU', tensor([98.0571, 96.5137, 76.5852], device='cuda:0')), ('mAP', tensor([98.7948, 97.8133, 91.3609], device='cuda:0')), ('Acc', tensor([98.7948, 97.8133, 91.3609], device='cuda:0'))])\n",
            "\n",
            "Test\n",
            "[mIoU]: 89.6, [mAP]: 94.7, [Acc]: 97.9, : 100% 3/3 [00:46<00:00, 15.57s/it]\n",
            "OrderedDict([('mIoU', tensor([97.8281, 95.8338, 75.1394], device='cuda:0')), ('mAP', tensor([99.0749, 96.8923, 87.9828], device='cuda:0')), ('Acc', tensor([99.0749, 96.8923, 87.9828], device='cuda:0'))])\n",
            "\n"
          ]
        }
      ],
      "source": [
        "!python /content/Causal-Unsupervised-Segmentation/test_tr.py \\\n",
        "        --data_dir \"Pirelli_3cat\" --dataset \"pirelli\" \\\n",
        "        --ckpt \"/content/checkpoint/dino_vit_small_8.pth\" \\\n",
        "        --load_segment True --load_cluster True"
      ]
    },
    {
      "cell_type": "markdown",
      "metadata": {
        "id": "_i3jP8wk3b85"
      },
      "source": [
        "# Save Results and checkpoints"
      ]
    },
    {
      "cell_type": "code",
      "execution_count": null,
      "metadata": {
        "id": "wRlpNi1z3gdo"
      },
      "outputs": [],
      "source": [
        "!zip -r results_only_sup_3classes_no_stride.zip ./results &> /dev/null"
      ]
    },
    {
      "cell_type": "code",
      "execution_count": null,
      "metadata": {
        "id": "9SJ0o9AJ3kc_"
      },
      "outputs": [],
      "source": [
        "!zip -r /content/CAUSE_only_sup_3classes_no_stride.zip ./CAUSE &> /dev/null"
      ]
    },
    {
      "cell_type": "code",
      "execution_count": null,
      "metadata": {
        "id": "qw_nH0PrpQAj"
      },
      "outputs": [],
      "source": [
        "!mv /content/CAUSE_only_sup_3classes_no_stride.zip /content/drive/MyDrive/HIISS/checkpoints\n",
        "!mv results_only_sup_3classes_no_stride.zip /content/drive/MyDrive/HIISS/results"
      ]
    },
    {
      "cell_type": "markdown",
      "source": [
        "# Predict"
      ],
      "metadata": {
        "id": "Qy_s2XSxRh3x"
      }
    },
    {
      "cell_type": "code",
      "source": [
        "!rm -r /content/Pirelli_unsupervised"
      ],
      "metadata": {
        "id": "USFjYsd2bTwz"
      },
      "execution_count": 40,
      "outputs": []
    },
    {
      "cell_type": "code",
      "source": [
        "!unzip /content/drive/MyDrive/HIISS/datasets/Pirelli_unsupervised_no_stride.zip -d /content &> /dev/null"
      ],
      "metadata": {
        "id": "H8X8bjOlboPi"
      },
      "execution_count": null,
      "outputs": []
    },
    {
      "cell_type": "code",
      "source": [
        "!python ./Causal-Unsupervised-Segmentation/crop_dataset.py  --data_dir \"Pirelli_unsupervised\" --dataset \"pirelli\" --crop_type \"super\""
      ],
      "metadata": {
        "colab": {
          "base_uri": "https://localhost:8080/"
        },
        "id": "s2n1oMFfbxBv",
        "outputId": "031af3ff-4455-4d24-a71a-10dd3eb508df"
      },
      "execution_count": 45,
      "outputs": [
        {
          "output_type": "stream",
          "name": "stdout",
          "text": [
            "Device = cuda:0\n",
            "100% 1335/1335 [11:00<00:00,  2.02it/s]\n"
          ]
        }
      ]
    },
    {
      "cell_type": "code",
      "source": [
        "!python /content/Causal-Unsupervised-Segmentation/test_tr.py \\\n",
        "        --data_dir \"Pirelli_unsupervised\" --dataset \"pirelli\" \\\n",
        "        --ckpt \"/content/checkpoint/dino_vit_small_8.pth\" \\\n",
        "        --load_segment True --load_cluster True --just_imgs True"
      ],
      "metadata": {
        "colab": {
          "base_uri": "https://localhost:8080/"
        },
        "id": "1vjGk6zu0pYN",
        "outputId": "767e131e-a849-400d-9632-7216077efa37"
      },
      "execution_count": 46,
      "outputs": [
        {
          "output_type": "stream",
          "name": "stdout",
          "text": [
            "------------------Configurations------------------\n",
            "NAME_TAG: CAUSE-TR\n",
            "data_dir: Pirelli_unsupervised\n",
            "dataset: pirelli\n",
            "port: 12355\n",
            "ckpt: /content/checkpoint/dino_vit_small_8.pth\n",
            "distributed: False\n",
            "load_segment: True\n",
            "load_cluster: True\n",
            "train_resolution: 320\n",
            "test_resolution: 320\n",
            "batch_size: 16\n",
            "num_workers: 0\n",
            "gpu: 0\n",
            "num_codebook: 2048\n",
            "just_imgs: True\n",
            "reduced_dim: 90\n",
            "projection_dim: 2048\n",
            "dim: 384\n",
            "num_queries: 1600\n",
            "-------------------------------------------------\n",
            "_IncompatibleKeys(missing_keys=['head.weight', 'head.bias'], unexpected_keys=[])\n",
            "3\n",
            "[Segment] CAUSE/pirelli/dino_vit_small_8/2048/segment_tr.pth loaded\n",
            "[Cluster] CAUSE/pirelli/dino_vit_small_8/2048/cluster_tr.pth loaded\n",
            "Modularity CAUSE/pirelli/modularity/dino_vit_small_8/2048/modular.npy loaded\n",
            "# of Parameters: 3.59(M)\n",
            "Test\n",
            "100% 8/8 [02:27<00:00, 18.47s/it]\n"
          ]
        }
      ]
    },
    {
      "cell_type": "code",
      "source": [
        "!zip -r results_only_sup_all_imgs.zip ./results &> /dev/null"
      ],
      "metadata": {
        "id": "AKGdx3R90xlt"
      },
      "execution_count": 47,
      "outputs": []
    },
    {
      "cell_type": "code",
      "source": [
        "!mv results_only_sup_all_imgs.zip /content/drive/MyDrive/HIISS/results"
      ],
      "metadata": {
        "id": "gHlm-zIUzfcY"
      },
      "execution_count": 48,
      "outputs": []
    }
  ],
  "metadata": {
    "accelerator": "GPU",
    "colab": {
      "provenance": []
    },
    "kernelspec": {
      "display_name": "Python 3",
      "name": "python3"
    },
    "language_info": {
      "name": "python"
    }
  },
  "nbformat": 4,
  "nbformat_minor": 0
}