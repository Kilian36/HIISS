{
  "cells": [
    {
      "cell_type": "code",
      "execution_count": null,
      "metadata": {
        "colab": {
          "base_uri": "https://localhost:8080/"
        },
        "id": "eLF3RKYyBAXA",
        "outputId": "64d8b450-85a6-4f3a-b719-1d9ef1d3c1ed"
      },
      "outputs": [
        {
          "output_type": "stream",
          "name": "stdout",
          "text": [
            "Mounted at /content/drive\n"
          ]
        }
      ],
      "source": [
        "from google.colab import drive\n",
        "drive.mount('/content/drive')"
      ]
    },
    {
      "cell_type": "markdown",
      "metadata": {
        "id": "kDdQ_1B7GboX"
      },
      "source": [
        "# Move folder from drive and install requirements\n"
      ]
    },
    {
      "cell_type": "code",
      "execution_count": null,
      "metadata": {
        "id": "MIjTafSXozzA"
      },
      "outputs": [],
      "source": [
        "!unzip /content/drive/MyDrive/HIISS/Causal-Unsupervised-Segmentation.zip &> /dev/null\n",
        "!mv /content/content/Causal-Unsupervised-Segmentation /content\n",
        "!rm -r /content/content"
      ]
    },
    {
      "cell_type": "code",
      "execution_count": null,
      "metadata": {
        "id": "gvtNGIeKq1kM"
      },
      "outputs": [],
      "source": [
        "!pip install -r /content/Causal-Unsupervised-Segmentation/requirements.txt &> /dev/null\n",
        "!pip install timm==0.9.5 &> /dev/null\n",
        "!pip install git+https://github.com/lucasb-eyer/pydensecrf.git &> /dev/null"
      ]
    },
    {
      "cell_type": "markdown",
      "metadata": {
        "id": "LoSu-bFJ6hAa"
      },
      "source": [
        "# Load pirelli datasets"
      ]
    },
    {
      "cell_type": "code",
      "execution_count": null,
      "metadata": {
        "id": "h98IeFu-Ry1n"
      },
      "outputs": [],
      "source": [
        "!unzip /content/drive/MyDrive/HIISS/datasets/Pirelli_3cat_strided.zip -d /content &> /dev/null"
      ]
    },
    {
      "cell_type": "code",
      "execution_count": null,
      "metadata": {
        "id": "xj2Hux9aN5XD"
      },
      "outputs": [],
      "source": [
        "!unzip /content/drive/MyDrive/HIISS/datasets/Pirelli_4cat_strided.zip -d /content &> /dev/null"
      ]
    },
    {
      "cell_type": "code",
      "execution_count": null,
      "metadata": {
        "id": "DnXPujMYxv3U"
      },
      "outputs": [],
      "source": [
        "!unzip /content/drive/MyDrive/HIISS/datasets/Pirelli_3cat_no_stride.zip -d /content &> /dev/null"
      ]
    },
    {
      "cell_type": "code",
      "execution_count": null,
      "metadata": {
        "id": "pUWdTOuGN_jM"
      },
      "outputs": [],
      "source": [
        "!unzip /content/drive/MyDrive/HIISS/datasets/Pirelli_4cat_no_stride.zip -d /content &> /dev/null"
      ]
    },
    {
      "cell_type": "code",
      "execution_count": null,
      "metadata": {
        "id": "SCnmj1PRHIaS"
      },
      "outputs": [],
      "source": [
        "!unzip /content/drive/MyDrive/HIISS/datasets/Pirelli_unsupervised_no_stride.zip -d /content &> /dev/null"
      ]
    },
    {
      "cell_type": "markdown",
      "metadata": {
        "id": "VPY1oHwRodnT"
      },
      "source": [
        "# Load Dino checkpoint\n"
      ]
    },
    {
      "cell_type": "code",
      "execution_count": null,
      "metadata": {
        "id": "ki6hKStwogTy"
      },
      "outputs": [],
      "source": [
        "!mkdir checkpoint\n",
        "!wget https://dl.fbaipublicfiles.com/dino/dino_deitsmall8_pretrain/dino_deitsmall8_pretrain.pth &> /dev/null\n",
        "!mv /content/dino_deitsmall8_pretrain.pth /content/checkpoint/dino_vit_small_8.pth"
      ]
    },
    {
      "cell_type": "markdown",
      "metadata": {
        "id": "muGODoDtnc43"
      },
      "source": [
        "# Load CAUSE checkpoint"
      ]
    },
    {
      "cell_type": "code",
      "execution_count": null,
      "metadata": {
        "id": "XkAOii60qcPc"
      },
      "outputs": [],
      "source": [
        "!rm -r /content/CAUSE"
      ]
    },
    {
      "cell_type": "code",
      "execution_count": null,
      "metadata": {
        "colab": {
          "base_uri": "https://localhost:8080/"
        },
        "id": "Fl5hrfKXnhOb",
        "outputId": "6b4d1aa3-0bf2-456d-f6de-eb2c39890e40"
      },
      "outputs": [
        {
          "output_type": "stream",
          "name": "stdout",
          "text": [
            "Archive:  mediator_unsupervised_no_stride.zip\n",
            "   creating: ./CAUSE/content/CAUSE/\n",
            "   creating: ./CAUSE/content/CAUSE/pirelli/\n",
            "   creating: ./CAUSE/content/CAUSE/pirelli/modularity/\n",
            "   creating: ./CAUSE/content/CAUSE/pirelli/modularity/dino_vit_small_8/\n",
            "   creating: ./CAUSE/content/CAUSE/pirelli/modularity/dino_vit_small_8/2048/\n",
            "  inflating: ./CAUSE/content/CAUSE/pirelli/modularity/dino_vit_small_8/2048/modular.npy  \n"
          ]
        }
      ],
      "source": [
        "!cp /content/drive/MyDrive/HIISS/checkpoints/mediator_unsupervised_no_stride.zip .\n",
        "!unzip mediator_unsupervised_no_stride.zip -d ./CAUSE"
      ]
    },
    {
      "cell_type": "code",
      "execution_count": null,
      "metadata": {
        "id": "Y77cxmkppN3K"
      },
      "outputs": [],
      "source": [
        "!cp -r /content/CAUSE/content/CAUSE .\n",
        "!rm -r /content/CAUSE/content\n",
        "!rm -r /content/mediator_unsupervised_no_stride.zip"
      ]
    },
    {
      "cell_type": "markdown",
      "metadata": {
        "id": "OqbsnYVt5hus"
      },
      "source": [
        "# Crop the datasets\n"
      ]
    },
    {
      "cell_type": "code",
      "execution_count": null,
      "metadata": {
        "colab": {
          "base_uri": "https://localhost:8080/"
        },
        "id": "UgpVcPNrriR3",
        "outputId": "85ecb0f6-5593-4c56-e116-f9aacf3de5f6"
      },
      "outputs": [
        {
          "output_type": "stream",
          "name": "stdout",
          "text": [
            "Device = cuda:0\n",
            "100% 130/130 [00:25<00:00,  5.14it/s]\n"
          ]
        }
      ],
      "source": [
        "!python ./Causal-Unsupervised-Segmentation/crop_dataset.py  --data_dir \"Pirelli_4cat\" --dataset \"pirelli\" --crop_type \"super\""
      ]
    },
    {
      "cell_type": "code",
      "execution_count": null,
      "metadata": {
        "colab": {
          "base_uri": "https://localhost:8080/"
        },
        "id": "G4ZBfHKLSjyw",
        "outputId": "185379b7-0283-406a-ae50-65f3e3eb659b"
      },
      "outputs": [
        {
          "output_type": "stream",
          "name": "stdout",
          "text": [
            "Device = cuda:0\n",
            "100% 130/130 [00:25<00:00,  5.11it/s]\n"
          ]
        }
      ],
      "source": [
        "!python ./Causal-Unsupervised-Segmentation/crop_dataset.py  --data_dir \"Pirelli_3cat\" --dataset \"pirelli\" --crop_type \"super\""
      ]
    },
    {
      "cell_type": "code",
      "execution_count": null,
      "metadata": {
        "colab": {
          "base_uri": "https://localhost:8080/"
        },
        "id": "09xq_Mi6uhDD",
        "outputId": "d431aca3-b307-415a-aba8-e441e6770889"
      },
      "outputs": [
        {
          "output_type": "stream",
          "name": "stdout",
          "text": [
            "Device = cuda:0\n",
            "100% 1335/1335 [10:00<00:00,  2.22it/s]\n"
          ]
        }
      ],
      "source": [
        "!python ./Causal-Unsupervised-Segmentation/crop_dataset.py --data_dir \"Pirelli_unsupervised\" --dataset \"pirelli\" --crop_type \"super\""
      ]
    },
    {
      "cell_type": "markdown",
      "metadata": {
        "id": "MQnyabmO5xw3"
      },
      "source": [
        "# Train the mediator"
      ]
    },
    {
      "cell_type": "code",
      "execution_count": null,
      "metadata": {
        "id": "qY1uJsl0YGzy",
        "colab": {
          "base_uri": "https://localhost:8080/"
        },
        "outputId": "d3201525-8d1d-446f-cbf2-835187c371d6"
      },
      "outputs": [
        {
          "output_type": "stream",
          "name": "stdout",
          "text": [
            "rm: cannot remove 'CAUSE': No such file or directory\n"
          ]
        }
      ],
      "source": [
        "!rm -r CAUSE # Remove to retrain again"
      ]
    },
    {
      "cell_type": "code",
      "execution_count": null,
      "metadata": {
        "colab": {
          "base_uri": "https://localhost:8080/"
        },
        "id": "MZbrRSLBcXGm",
        "outputId": "a99e1919-82a9-4322-8e4f-2b28b55a0471"
      },
      "outputs": [
        {
          "output_type": "stream",
          "name": "stdout",
          "text": [
            "------------------Configurations------------------\n",
            "epoch: 3\n",
            "distributed: True\n",
            "load_segment: False\n",
            "load_cluster: False\n",
            "train_resolution: 320\n",
            "test_resolution: 320\n",
            "batch_size: 16\n",
            "num_workers: 0\n",
            "data_dir: Pirelli_3cat\n",
            "dataset: pirelli\n",
            "ckpt: /content/checkpoint/dino_vit_small_8.pth\n",
            "gpu: 0\n",
            "port: 12355\n",
            "grid: True\n",
            "num_codebook: 2048\n",
            "reduced_dim: 90\n",
            "projection_dim: 2048\n",
            "dim: 384\n",
            "-------------------------------------------------\n",
            "_IncompatibleKeys(missing_keys=['head.weight', 'head.bias'], unexpected_keys=[])\n",
            "No File Exists!!\n",
            "-------------TRAIN EPOCH: 1-------------\n",
            "[Train]: 100% 407/407 [01:52<00:00,  3.61it/s]\n",
            "-------------TRAIN EPOCH: 2-------------\n",
            "[Train]: 100% 407/407 [01:51<00:00,  3.66it/s]\n",
            "-------------TRAIN EPOCH: 3-------------\n",
            "[Train]: 100% 407/407 [01:51<00:00,  3.66it/s]\n"
          ]
        }
      ],
      "source": [
        "!python ./Causal-Unsupervised-Segmentation/train_mediator.py \\\n",
        "        --data_dir \"Pirelli_unsupervised\" --dataset \"pirelli\" \\\n",
        "        --ckpt \"/content/checkpoint/dino_vit_small_8.pth\"\\\n",
        "        --gpu 0 --epoch 3"
      ]
    },
    {
      "cell_type": "code",
      "source": [
        "!zip -r mediator_unsupervised_no_stride.zip /content/CAUSE"
      ],
      "metadata": {
        "colab": {
          "base_uri": "https://localhost:8080/"
        },
        "id": "YKPIFRxlRdxQ",
        "outputId": "9bbeadba-472a-40b3-dc27-b020d07bafa5"
      },
      "execution_count": null,
      "outputs": [
        {
          "output_type": "stream",
          "name": "stdout",
          "text": [
            "  adding: content/CAUSE/ (stored 0%)\n",
            "  adding: content/CAUSE/pirelli/ (stored 0%)\n",
            "  adding: content/CAUSE/pirelli/modularity/ (stored 0%)\n",
            "  adding: content/CAUSE/pirelli/modularity/dino_vit_small_8/ (stored 0%)\n",
            "  adding: content/CAUSE/pirelli/modularity/dino_vit_small_8/2048/ (stored 0%)\n",
            "  adding: content/CAUSE/pirelli/modularity/dino_vit_small_8/2048/modular.npy (deflated 10%)\n"
          ]
        }
      ]
    },
    {
      "cell_type": "code",
      "source": [
        "!mv /content/mediator_unsupervised_no_stride.zip /content/drive/MyDrive/HIISS/checkpoints"
      ],
      "metadata": {
        "id": "JKG1-ANHRuXZ"
      },
      "execution_count": null,
      "outputs": []
    },
    {
      "cell_type": "markdown",
      "metadata": {
        "id": "b7b9HTWB9n4k"
      },
      "source": [
        "# Train the transformer"
      ]
    },
    {
      "cell_type": "markdown",
      "metadata": {
        "id": "Mcg9WgiYT8bn"
      },
      "source": [
        "## 4 class"
      ]
    },
    {
      "cell_type": "code",
      "execution_count": null,
      "metadata": {
        "colab": {
          "base_uri": "https://localhost:8080/"
        },
        "id": "vS7hWlQCnIQe",
        "outputId": "facf5042-c7d1-44e7-c926-37df24287625"
      },
      "outputs": [
        {
          "output_type": "stream",
          "name": "stdout",
          "text": [
            "------------------Configurations------------------\n",
            "NAME_TAG: CAUSE-TR\n",
            "data_dir: Pirelli_4cat\n",
            "dataset: pirelli\n",
            "ckpt: /content/checkpoint/dino_vit_small_8.pth\n",
            "epoch: 5\n",
            "distributed: False\n",
            "load_segment: False\n",
            "load_cluster: False\n",
            "train_resolution: 320\n",
            "test_resolution: 320\n",
            "batch_size: 16\n",
            "num_workers: 0\n",
            "gpu: 0\n",
            "port: 12355\n",
            "grid: True\n",
            "num_codebook: 2048\n",
            "reduced_dim: 90\n",
            "projection_dim: 2048\n",
            "dim: 384\n",
            "num_queries: 1600\n",
            "-------------------------------------------------\n",
            "_IncompatibleKeys(missing_keys=['head.weight', 'head.bias'], unexpected_keys=[])\n",
            "4\n",
            "Modularity CAUSE/pirelli/modularity/dino_vit_small_8/2048/modular.npy loaded\n",
            "-------------TRAIN EPOCH: 1-------------\n",
            "[Train] Loss: 7.26=6.82+0.45 ACC: 85.6%: 100% 407/407 [03:49<00:00,  1.77it/s]\n",
            "-------------TEST EPOCH: 1-------------\n",
            "[TEST] Acc (Linear): 92.0%: 100% 3/3 [00:01<00:00,  2.43it/s]\n",
            "-----------------TEST Epoch 0: SAVING CHECKPOINT IN CAUSE/pirelli/dino_vit_small_8/2048/segment_tr.pth-----------------\n",
            "-------------TRAIN EPOCH: 2-------------\n",
            "[Train] Loss: 7.06=6.75+0.31 ACC: 89.3%: 100% 407/407 [03:53<00:00,  1.75it/s]\n",
            "-------------TEST EPOCH: 2-------------\n",
            "[TEST] Acc (Linear): 93.3%: 100% 3/3 [00:01<00:00,  2.58it/s]\n",
            "-----------------TEST Epoch 1: SAVING CHECKPOINT IN CAUSE/pirelli/dino_vit_small_8/2048/segment_tr.pth-----------------\n",
            "-------------TRAIN EPOCH: 3-------------\n",
            "[Train] Loss: 7.03=6.74+0.29 ACC: 89.9%: 100% 407/407 [03:53<00:00,  1.74it/s]\n",
            "-------------TEST EPOCH: 3-------------\n",
            "[TEST] Acc (Linear): 93.4%: 100% 3/3 [00:01<00:00,  2.61it/s]\n",
            "-----------------TEST Epoch 2: SAVING CHECKPOINT IN CAUSE/pirelli/dino_vit_small_8/2048/segment_tr.pth-----------------\n",
            "-------------TRAIN EPOCH: 4-------------\n",
            "[Train] Loss: 7.02=6.74+0.28 ACC: 90.2%: 100% 407/407 [03:52<00:00,  1.75it/s]\n",
            "-------------TEST EPOCH: 4-------------\n",
            "[TEST] Acc (Linear): 93.4%: 100% 3/3 [00:01<00:00,  2.61it/s]\n",
            "-----------------TEST Epoch 3: SAVING CHECKPOINT IN CAUSE/pirelli/dino_vit_small_8/2048/segment_tr.pth-----------------\n",
            "-------------TRAIN EPOCH: 5-------------\n",
            "[Train] Loss: 7.02=6.74+0.28 ACC: 90.3%:  38% 155/407 [01:29<02:22,  1.77it/s]"
          ]
        }
      ],
      "source": [
        "!python ./Causal-Unsupervised-Segmentation/train_front_door_tr.py \\\n",
        "          --data_dir \"Pirelli_4cat\" --dataset \"pirelli\" \\\n",
        "          --ckpt \"/content/checkpoint/dino_vit_small_8.pth\" \\\n",
        "          --gpu 0 --epoch 5 --batch_size 16"
      ]
    },
    {
      "cell_type": "markdown",
      "metadata": {
        "id": "0HqrGXoST_R6"
      },
      "source": [
        "## 3 class"
      ]
    },
    {
      "cell_type": "code",
      "execution_count": null,
      "metadata": {
        "colab": {
          "base_uri": "https://localhost:8080/"
        },
        "id": "noiOZJ02UEH6",
        "outputId": "eb72523f-c12e-4302-b22f-f3face58e83b"
      },
      "outputs": [
        {
          "output_type": "stream",
          "name": "stdout",
          "text": [
            "------------------Configurations------------------\n",
            "NAME_TAG: CAUSE-TR\n",
            "data_dir: Pirelli_3cat\n",
            "dataset: pirelli\n",
            "ckpt: /content/checkpoint/dino_vit_small_8.pth\n",
            "epoch: 5\n",
            "distributed: False\n",
            "load_segment: False\n",
            "load_cluster: False\n",
            "train_resolution: 320\n",
            "test_resolution: 320\n",
            "batch_size: 16\n",
            "num_workers: 0\n",
            "gpu: 0\n",
            "port: 12355\n",
            "grid: True\n",
            "num_codebook: 2048\n",
            "reduced_dim: 90\n",
            "projection_dim: 2048\n",
            "dim: 384\n",
            "num_queries: 1600\n",
            "-------------------------------------------------\n",
            "_IncompatibleKeys(missing_keys=['head.weight', 'head.bias'], unexpected_keys=[])\n",
            "3\n",
            "Modularity CAUSE/pirelli/modularity/dino_vit_small_8/2048/modular.npy loaded\n",
            "-------------TRAIN EPOCH: 1-------------\n",
            "[Train] Loss: 7.17=6.82+0.35 ACC: 87.1%: 100% 407/407 [03:48<00:00,  1.78it/s]\n",
            "-------------TEST EPOCH: 1-------------\n",
            "[TEST] Acc (Linear): 92.8%: 100% 3/3 [00:01<00:00,  2.45it/s]\n",
            "-----------------TEST Epoch 0: SAVING CHECKPOINT IN CAUSE/pirelli/dino_vit_small_8/2048/segment_tr.pth-----------------\n",
            "-------------TRAIN EPOCH: 2-------------\n",
            "[Train] Loss: 7.03=6.76+0.27 ACC: 90.0%: 100% 407/407 [03:51<00:00,  1.76it/s]\n",
            "-------------TEST EPOCH: 2-------------\n",
            "[TEST] Acc (Linear): 92.7%: 100% 3/3 [00:01<00:00,  2.26it/s]\n",
            "-----------------TEST Epoch 1: SAVING CHECKPOINT IN CAUSE/pirelli/dino_vit_small_8/2048/segment_tr.pth-----------------\n",
            "-------------TRAIN EPOCH: 3-------------\n",
            "[Train] Loss: 7.02=6.74+0.28 ACC: 89.8%: 100% 407/407 [03:51<00:00,  1.76it/s]\n",
            "-------------TEST EPOCH: 3-------------\n",
            "[TEST] Acc (Linear): 92.6%: 100% 3/3 [00:01<00:00,  2.57it/s]\n",
            "-----------------TEST Epoch 2: SAVING CHECKPOINT IN CAUSE/pirelli/dino_vit_small_8/2048/segment_tr.pth-----------------\n",
            "-------------TRAIN EPOCH: 4-------------\n",
            "[Train] Loss: 7.01=6.74+0.28 ACC: 89.8%: 100% 407/407 [03:51<00:00,  1.76it/s]\n",
            "-------------TEST EPOCH: 4-------------\n",
            "[TEST] Acc (Linear): 92.9%: 100% 3/3 [00:01<00:00,  2.61it/s]\n",
            "-----------------TEST Epoch 3: SAVING CHECKPOINT IN CAUSE/pirelli/dino_vit_small_8/2048/segment_tr.pth-----------------\n",
            "-------------TRAIN EPOCH: 5-------------\n",
            "[Train] Loss: 7.01=6.74+0.27 ACC: 89.9%: 100% 407/407 [03:51<00:00,  1.76it/s]\n",
            "-------------TEST EPOCH: 5-------------\n",
            "[TEST] Acc (Linear): 93.2%: 100% 3/3 [00:01<00:00,  2.46it/s]\n",
            "-----------------TEST Epoch 4: SAVING CHECKPOINT IN CAUSE/pirelli/dino_vit_small_8/2048/segment_tr.pth-----------------\n"
          ]
        }
      ],
      "source": [
        "!python ./Causal-Unsupervised-Segmentation/train_front_door_tr.py \\\n",
        "          --data_dir \"Pirelli_3cat\" --dataset \"pirelli\" \\\n",
        "          --ckpt \"/content/checkpoint/dino_vit_small_8.pth\" \\\n",
        "          --gpu 0 --epoch 4 --batch_size 16"
      ]
    },
    {
      "cell_type": "markdown",
      "metadata": {
        "id": "ZoB6RYjVOg_Q"
      },
      "source": [
        "#Fine tuning"
      ]
    },
    {
      "cell_type": "markdown",
      "metadata": {
        "id": "w2zcjJmnUIBm"
      },
      "source": [
        "## 4 class"
      ]
    },
    {
      "cell_type": "code",
      "execution_count": null,
      "metadata": {
        "colab": {
          "base_uri": "https://localhost:8080/"
        },
        "id": "XV3A3Z_4Oiu9",
        "outputId": "a2fe3a55-f75c-4e6d-8909-e574677d6751"
      },
      "outputs": [
        {
          "output_type": "stream",
          "name": "stdout",
          "text": [
            "------------------Configurations------------------\n",
            "NAME_TAG: CAUSE-TR\n",
            "data_dir: Pirelli_4cat\n",
            "dataset: pirelli\n",
            "ckpt: /content/checkpoint/dino_vit_small_8.pth\n",
            "epoch: 3\n",
            "distributed: True\n",
            "load_segment: True\n",
            "load_cluster: False\n",
            "train_resolution: 320\n",
            "test_resolution: 320\n",
            "batch_size: 16\n",
            "num_workers: 0\n",
            "gpu: 0\n",
            "port: 12355\n",
            "grid: True\n",
            "num_codebook: 2048\n",
            "reduced_dim: 90\n",
            "projection_dim: 2048\n",
            "dim: 384\n",
            "num_queries: 1600\n",
            "-------------------------------------------------\n",
            "_IncompatibleKeys(missing_keys=['head.weight', 'head.bias'], unexpected_keys=[])\n",
            "4\n",
            "[Segment] CAUSE/pirelli/dino_vit_small_8/2048/segment_tr.pth loaded\n",
            "Modularity CAUSE/pirelli/modularity/dino_vit_small_8/2048/modular.npy loaded\n",
            "-------------TRAIN EPOCH: 1-------------\n",
            "[Train] Loss: 0.00=0.10-0.10 ACC: 96.3%: 100% 407/407 [02:46<00:00,  2.45it/s]\n",
            "-------------TEST EPOCH: 1-------------\n",
            "[TEST] Acc (Linear): 97.6% | [mIoU]: 83.6, [mAP]: 87.2, [Acc]: 96.2, : 100% 3/3 [00:01<00:00,  2.29it/s]\n",
            "-----------------TEST Epoch 0: SAVING CHECKPOINT IN CAUSE/pirelli/dino_vit_small_8/2048/cluster_tr.pth-----------------\n",
            "-------------TRAIN EPOCH: 2-------------\n",
            "[Train] Loss: -0.09=0.06-0.15 ACC: 97.7%: 100% 407/407 [02:44<00:00,  2.47it/s]\n",
            "-------------TEST EPOCH: 2-------------\n",
            "[TEST] Acc (Linear): 97.7% | [mIoU]: 84.7, [mAP]: 88.0, [Acc]: 96.4, : 100% 3/3 [00:01<00:00,  2.48it/s]\n",
            "-----------------TEST Epoch 1: SAVING CHECKPOINT IN CAUSE/pirelli/dino_vit_small_8/2048/cluster_tr.pth-----------------\n",
            "-------------TRAIN EPOCH: 3-------------\n",
            "[Train] Loss: -0.11=0.05-0.16 ACC: 98.1%: 100% 407/407 [02:44<00:00,  2.47it/s]\n",
            "-------------TEST EPOCH: 3-------------\n",
            "[TEST] Acc (Linear): 97.9% | [mIoU]: 85.4, [mAP]: 88.4, [Acc]: 96.6, : 100% 3/3 [00:01<00:00,  2.44it/s]\n",
            "-----------------TEST Epoch 2: SAVING CHECKPOINT IN CAUSE/pirelli/dino_vit_small_8/2048/cluster_tr.pth-----------------\n"
          ]
        }
      ],
      "source": [
        "!python /content/Causal-Unsupervised-Segmentation/fine_tuning_tr.py \\\n",
        "          --data_dir \"Pirelli_4cat\" --dataset \"pirelli\" \\\n",
        "          --ckpt \"/content/checkpoint/dino_vit_small_8.pth\"  \\\n",
        "          --gpu 0 --epoch 3 --batch_size 16 --load_segment True \\\n",
        "          --load_cluster False"
      ]
    },
    {
      "cell_type": "code",
      "execution_count": null,
      "metadata": {
        "colab": {
          "base_uri": "https://localhost:8080/"
        },
        "id": "B-h6MmxbMzAu",
        "outputId": "307401cb-9dcc-4ab6-8cae-2838cff9a64f"
      },
      "outputs": [
        {
          "output_type": "stream",
          "name": "stdout",
          "text": [
            "------------------Configurations------------------\n",
            "NAME_TAG: CAUSE-TR\n",
            "data_dir: Pirelli_4cat\n",
            "dataset: pirelli\n",
            "ckpt: /content/checkpoint/dino_vit_small_8.pth\n",
            "epoch: 1\n",
            "distributed: True\n",
            "load_segment: True\n",
            "load_cluster: False\n",
            "train_resolution: 320\n",
            "test_resolution: 320\n",
            "batch_size: 16\n",
            "num_workers: 0\n",
            "gpu: 0\n",
            "port: 12355\n",
            "grid: True\n",
            "num_codebook: 2048\n",
            "reduced_dim: 90\n",
            "projection_dim: 2048\n",
            "dim: 384\n",
            "num_queries: 1600\n",
            "-------------------------------------------------\n",
            "_IncompatibleKeys(missing_keys=['head.weight', 'head.bias'], unexpected_keys=[])\n",
            "4\n",
            "[Segment] CAUSE/pirelli/dino_vit_small_8/2048/segment_tr.pth loaded\n",
            "Modularity CAUSE/pirelli/modularity/dino_vit_small_8/2048/modular.npy loaded\n",
            "-------------TRAIN EPOCH: 1-------------\n",
            "[Train] Loss: -0.02=0.05-0.07 ACC: 97.9%: 100% 407/407 [02:45<00:00,  2.46it/s]\n",
            "-------------TEST EPOCH: 1-------------\n",
            "[TEST] Acc (Linear): 97.9% | [mIoU]: 39.3, [mAP]: 47.8, [Acc]: 69.5, : 100% 3/3 [00:01<00:00,  2.19it/s]\n",
            "-----------------TEST Epoch 0: SAVING CHECKPOINT IN CAUSE/pirelli/dino_vit_small_8/2048/cluster_tr.pth-----------------\n"
          ]
        }
      ],
      "source": [
        "!python /content/Causal-Unsupervised-Segmentation/fine_tuning_tr.py \\\n",
        "          --data_dir \"Pirelli_4cat\" --dataset \"pirelli\" \\\n",
        "          --ckpt \"/content/checkpoint/dino_vit_small_8.pth\"  \\\n",
        "          --gpu 0 --epoch 1 --batch_size 16 --load_segment True \\\n",
        "          --load_cluster False"
      ]
    },
    {
      "cell_type": "markdown",
      "metadata": {
        "id": "cp1K0MRcUKKF"
      },
      "source": [
        "## 3 class"
      ]
    },
    {
      "cell_type": "code",
      "execution_count": null,
      "metadata": {
        "colab": {
          "base_uri": "https://localhost:8080/"
        },
        "id": "sow9pe0LUPwi",
        "outputId": "e4a3cebf-1a95-451c-a139-bb5bb9bfb955"
      },
      "outputs": [
        {
          "output_type": "stream",
          "name": "stdout",
          "text": [
            "------------------Configurations------------------\n",
            "NAME_TAG: CAUSE-TR\n",
            "data_dir: Pirelli_3cat\n",
            "dataset: pirelli\n",
            "ckpt: /content/checkpoint/dino_vit_small_8.pth\n",
            "epoch: 3\n",
            "distributed: True\n",
            "load_segment: True\n",
            "load_cluster: False\n",
            "train_resolution: 320\n",
            "test_resolution: 320\n",
            "batch_size: 16\n",
            "num_workers: 0\n",
            "gpu: 0\n",
            "port: 12355\n",
            "grid: True\n",
            "num_codebook: 2048\n",
            "reduced_dim: 90\n",
            "projection_dim: 2048\n",
            "dim: 384\n",
            "num_queries: 1600\n",
            "-------------------------------------------------\n",
            "_IncompatibleKeys(missing_keys=['head.weight', 'head.bias'], unexpected_keys=[])\n",
            "3\n",
            "[Segment] CAUSE/pirelli/dino_vit_small_8/2048/segment_tr.pth loaded\n",
            "Modularity CAUSE/pirelli/modularity/dino_vit_small_8/2048/modular.npy loaded\n",
            "-------------TRAIN EPOCH: 1-------------\n",
            "[Train] Loss: 0.05=0.11-0.06 ACC: 96.3%: 100% 407/407 [02:45<00:00,  2.46it/s]\n",
            "-------------TEST EPOCH: 1-------------\n",
            "[TEST] Acc (Linear): 97.8% | [mIoU]: 58.3, [mAP]: 60.0, [Acc]: 92.1, : 100% 3/3 [00:01<00:00,  1.99it/s]\n",
            "-----------------TEST Epoch 0: SAVING CHECKPOINT IN CAUSE/pirelli/dino_vit_small_8/2048/cluster_tr.pth-----------------\n",
            "-------------TRAIN EPOCH: 2-------------\n",
            "[Train] Loss: -0.07=0.06-0.13 ACC: 97.7%: 100% 407/407 [02:43<00:00,  2.49it/s]\n",
            "-------------TEST EPOCH: 2-------------\n",
            "[TEST] Acc (Linear): 98.0% | [mIoU]: 59.2, [mAP]: 62.6, [Acc]: 93.2, : 100% 3/3 [00:01<00:00,  2.30it/s]\n",
            "-----------------TEST Epoch 1: SAVING CHECKPOINT IN CAUSE/pirelli/dino_vit_small_8/2048/cluster_tr.pth-----------------\n",
            "-------------TRAIN EPOCH: 3-------------\n",
            "[Train] Loss: -0.10=0.05-0.15 ACC: 98.1%: 100% 407/407 [02:43<00:00,  2.49it/s]\n",
            "-------------TEST EPOCH: 3-------------\n",
            "[TEST] Acc (Linear): 97.5% | [mIoU]: 59.1, [mAP]: 62.9, [Acc]: 93.0, : 100% 3/3 [00:01<00:00,  2.51it/s]\n",
            "-----------------TEST Epoch 2: SAVING CHECKPOINT IN CAUSE/pirelli/dino_vit_small_8/2048/cluster_tr.pth-----------------\n"
          ]
        }
      ],
      "source": [
        "!python /content/Causal-Unsupervised-Segmentation/fine_tuning_tr.py \\\n",
        "          --data_dir \"Pirelli_3cat\" --dataset \"pirelli\" \\\n",
        "          --ckpt \"/content/checkpoint/dino_vit_small_8.pth\"  \\\n",
        "          --gpu 0 --epoch 3 --batch_size 16 --load_segment True \\\n",
        "          --load_cluster False"
      ]
    },
    {
      "cell_type": "code",
      "execution_count": null,
      "metadata": {
        "colab": {
          "base_uri": "https://localhost:8080/"
        },
        "id": "KmZoeCo_M2zF",
        "outputId": "c10723b5-61d6-40ec-c3e8-980a30956c74"
      },
      "outputs": [
        {
          "output_type": "stream",
          "name": "stdout",
          "text": [
            "------------------Configurations------------------\n",
            "NAME_TAG: CAUSE-TR\n",
            "data_dir: Pirelli_3cat\n",
            "dataset: pirelli\n",
            "ckpt: /content/checkpoint/dino_vit_small_8.pth\n",
            "epoch: 1\n",
            "distributed: True\n",
            "load_segment: True\n",
            "load_cluster: False\n",
            "train_resolution: 320\n",
            "test_resolution: 320\n",
            "batch_size: 16\n",
            "num_workers: 0\n",
            "gpu: 0\n",
            "port: 12355\n",
            "grid: True\n",
            "num_codebook: 2048\n",
            "reduced_dim: 90\n",
            "projection_dim: 2048\n",
            "dim: 384\n",
            "num_queries: 1600\n",
            "-------------------------------------------------\n",
            "_IncompatibleKeys(missing_keys=['head.weight', 'head.bias'], unexpected_keys=[])\n",
            "3\n",
            "[Segment] CAUSE/pirelli/dino_vit_small_8/2048/segment_tr.pth loaded\n",
            "Modularity CAUSE/pirelli/modularity/dino_vit_small_8/2048/modular.npy loaded\n",
            "-------------TRAIN EPOCH: 1-------------\n",
            "[Train] Loss: -0.08=0.05-0.14 ACC: 97.9%: 100% 407/407 [02:45<00:00,  2.46it/s]\n",
            "-------------TEST EPOCH: 1-------------\n",
            "[TEST] Acc (Linear): 97.6% | [mIoU]: 89.0, [mAP]: 92.9, [Acc]: 97.8, : 100% 3/3 [00:01<00:00,  2.29it/s]\n",
            "-----------------TEST Epoch 0: SAVING CHECKPOINT IN CAUSE/pirelli/dino_vit_small_8/2048/cluster_tr.pth-----------------\n"
          ]
        }
      ],
      "source": [
        "!python /content/Causal-Unsupervised-Segmentation/fine_tuning_tr.py \\\n",
        "          --data_dir \"Pirelli_3cat\" --dataset \"pirelli\" \\\n",
        "          --ckpt \"/content/checkpoint/dino_vit_small_8.pth\"  \\\n",
        "          --gpu 0 --epoch 1 --batch_size 16 --load_segment True \\\n",
        "          --load_cluster False"
      ]
    },
    {
      "cell_type": "markdown",
      "metadata": {
        "id": "AXWVjkep9stB"
      },
      "source": [
        "# Test the model"
      ]
    },
    {
      "cell_type": "markdown",
      "metadata": {
        "id": "5WEOvyBjUTqa"
      },
      "source": [
        "## 4 class"
      ]
    },
    {
      "cell_type": "code",
      "execution_count": null,
      "metadata": {
        "colab": {
          "base_uri": "https://localhost:8080/"
        },
        "id": "LHSMkeNqnXiX",
        "outputId": "ea91b326-26d4-4b61-a44a-6cc6c7a45c55"
      },
      "outputs": [
        {
          "output_type": "stream",
          "name": "stdout",
          "text": [
            "------------------Configurations------------------\n",
            "NAME_TAG: CAUSE-TR\n",
            "data_dir: Pirelli_4cat\n",
            "dataset: pirelli\n",
            "port: 12355\n",
            "ckpt: /content/checkpoint/dino_vit_small_8.pth\n",
            "distributed: False\n",
            "load_segment: True\n",
            "load_cluster: True\n",
            "train_resolution: 320\n",
            "test_resolution: 320\n",
            "batch_size: 16\n",
            "num_workers: 0\n",
            "gpu: 0\n",
            "num_codebook: 2048\n",
            "just_imgs: False\n",
            "reduced_dim: 90\n",
            "projection_dim: 2048\n",
            "dim: 384\n",
            "num_queries: 1600\n",
            "-------------------------------------------------\n",
            "_IncompatibleKeys(missing_keys=['head.weight', 'head.bias'], unexpected_keys=[])\n",
            "4\n",
            "[Segment] CAUSE/pirelli/dino_vit_small_8/2048/segment_tr.pth loaded\n",
            "[Cluster] CAUSE/pirelli/dino_vit_small_8/2048/cluster_tr.pth loaded\n",
            "Modularity CAUSE/pirelli/modularity/dino_vit_small_8/2048/modular.npy loaded\n",
            "# of Parameters: 3.59(M)\n",
            "Test without CRF\n",
            "[TEST] Acc (Linear): 97.9% | [mIoU]: 39.3, [mAP]: 47.8, [Acc]: 69.5, : 100% 3/3 [00:01<00:00,  1.65it/s]\n",
            "OrderedDict([('mIoU', tensor([59.9372, 93.7674,  3.4182,  0.0000], device='cuda:0')), ('mAP', tensor([92.4336, 94.8486,  4.0171,  0.0000], device='cuda:0')), ('Acc', tensor([92.4336, 94.8486,  4.0171,  0.0000], device='cuda:0'))])\n",
            "\n",
            "Test linear no cfr\n",
            "[mIoU]: 68.1, [mAP]: 71.0, [Acc]: 98.1, : 100% 3/3 [00:02<00:00,  1.08it/s]\n",
            "OrderedDict([('mIoU', tensor([97.9849, 96.6630, 77.6354,  0.0000], device='cuda:0')), ('mAP', tensor([99.1745, 98.2576, 86.5167,  0.0000], device='cuda:0')), ('Acc', tensor([99.1745, 98.2576, 86.5167,  0.0000], device='cuda:0'))])\n",
            "\n",
            "Test linear\n",
            "[mIoU]: 68.2, [mAP]: 72.4, [Acc]: 98.3, : 100% 3/3 [00:35<00:00, 11.90s/it]\n",
            "OrderedDict([('mIoU', tensor([98.1991, 96.5871, 78.1272,  0.0000], device='cuda:0')), ('mAP', tensor([98.9553, 97.6122, 92.8839,  0.0000], device='cuda:0')), ('Acc', tensor([98.9553, 97.6122, 92.8839,  0.0000], device='cuda:0'))])\n",
            "\n",
            "Test\n",
            "[mIoU]: 38.0, [mAP]: 45.7, [Acc]: 71.4, : 100% 3/3 [00:39<00:00, 13.02s/it]\n",
            "OrderedDict([('mIoU', tensor([63.0435, 87.1115,  1.8499,  0.0000], device='cuda:0')), ('mAP', tensor([92.6104, 87.7518,  2.2693,  0.0000], device='cuda:0')), ('Acc', tensor([92.6104, 87.7518,  2.2693,  0.0000], device='cuda:0'))])\n",
            "\n"
          ]
        }
      ],
      "source": [
        "!python /content/Causal-Unsupervised-Segmentation/test_tr.py \\\n",
        "        --data_dir \"Pirelli_4cat\" --dataset \"pirelli\" \\\n",
        "        --ckpt \"/content/checkpoint/dino_vit_small_8.pth\" \\\n",
        "        --load_segment True --load_cluster True"
      ]
    },
    {
      "cell_type": "markdown",
      "metadata": {
        "id": "eq6d6JH2UWhB"
      },
      "source": [
        "## 3 class"
      ]
    },
    {
      "cell_type": "code",
      "execution_count": null,
      "metadata": {
        "colab": {
          "base_uri": "https://localhost:8080/"
        },
        "id": "o_ww3d4lUdkm",
        "outputId": "e376f501-0d7c-40e6-cc92-6d7e73b5e958"
      },
      "outputs": [
        {
          "output_type": "stream",
          "name": "stdout",
          "text": [
            "------------------Configurations------------------\n",
            "NAME_TAG: CAUSE-TR\n",
            "data_dir: Pirelli_3cat\n",
            "dataset: pirelli\n",
            "port: 12355\n",
            "ckpt: /content/checkpoint/dino_vit_small_8.pth\n",
            "distributed: False\n",
            "load_segment: True\n",
            "load_cluster: True\n",
            "train_resolution: 320\n",
            "test_resolution: 320\n",
            "batch_size: 16\n",
            "num_workers: 0\n",
            "gpu: 0\n",
            "num_codebook: 2048\n",
            "just_imgs: False\n",
            "reduced_dim: 90\n",
            "projection_dim: 2048\n",
            "dim: 384\n",
            "num_queries: 1600\n",
            "-------------------------------------------------\n",
            "_IncompatibleKeys(missing_keys=['head.weight', 'head.bias'], unexpected_keys=[])\n",
            "3\n",
            "[Segment] CAUSE/pirelli/dino_vit_small_8/2048/segment_tr.pth loaded\n",
            "[Cluster] CAUSE/pirelli/dino_vit_small_8/2048/cluster_tr.pth loaded\n",
            "Modularity CAUSE/pirelli/modularity/dino_vit_small_8/2048/modular.npy loaded\n",
            "# of Parameters: 3.59(M)\n",
            "Test without CRF\n",
            "[TEST] Acc (Linear): 97.6% | [mIoU]: 89.0, [mAP]: 92.9, [Acc]: 97.8, : 100% 3/3 [00:01<00:00,  1.62it/s]\n",
            "OrderedDict([('mIoU', tensor([97.4479, 96.3618, 73.2250], device='cuda:0')), ('mAP', tensor([98.8375, 98.7668, 81.0552], device='cuda:0')), ('Acc', tensor([98.8375, 98.7668, 81.0552], device='cuda:0'))])\n",
            "\n",
            "Test linear no cfr\n",
            "[mIoU]: 87.8, [mAP]: 93.9, [Acc]: 97.7, : 100% 3/3 [00:02<00:00,  1.11it/s]\n",
            "OrderedDict([('mIoU', tensor([97.3693, 96.6424, 69.4092], device='cuda:0')), ('mAP', tensor([98.2747, 98.7019, 84.7735], device='cuda:0')), ('Acc', tensor([98.2747, 98.7019, 84.7735], device='cuda:0'))])\n",
            "\n",
            "Test linear\n",
            "[mIoU]: 88.0, [mAP]: 96.0, [Acc]: 97.8, : 100% 3/3 [00:38<00:00, 12.95s/it]\n",
            "OrderedDict([('mIoU', tensor([97.5115, 96.7318, 69.8534], device='cuda:0')), ('mAP', tensor([98.0887, 98.1251, 91.8941], device='cuda:0')), ('Acc', tensor([98.0887, 98.1251, 91.8941], device='cuda:0'))])\n",
            "\n",
            "Test\n",
            "[mIoU]: 90.3, [mAP]: 96.0, [Acc]: 98.1, : 100% 3/3 [00:39<00:00, 13.21s/it]\n",
            "OrderedDict([('mIoU', tensor([97.8814, 96.1658, 76.8499], device='cuda:0')), ('mAP', tensor([98.6099, 97.9220, 91.4278], device='cuda:0')), ('Acc', tensor([98.6099, 97.9220, 91.4278], device='cuda:0'))])\n",
            "\n"
          ]
        }
      ],
      "source": [
        "!python /content/Causal-Unsupervised-Segmentation/test_tr.py \\\n",
        "        --data_dir \"Pirelli_3cat\" --dataset \"pirelli\" \\\n",
        "        --ckpt \"/content/checkpoint/dino_vit_small_8.pth\" \\\n",
        "        --load_segment True --load_cluster True"
      ]
    },
    {
      "cell_type": "markdown",
      "metadata": {
        "id": "9TN7ME9hrEst"
      },
      "source": [
        "# Save Results and checkpoints"
      ]
    },
    {
      "cell_type": "markdown",
      "metadata": {
        "id": "pK3rZiHQUrWE"
      },
      "source": [
        "## 4 class"
      ]
    },
    {
      "cell_type": "code",
      "execution_count": null,
      "metadata": {
        "id": "6PsbhvM0uK_q"
      },
      "outputs": [],
      "source": [
        "!zip -r results_med-unsup_train-sup_4classes.zip ./results &> /dev/null"
      ]
    },
    {
      "cell_type": "code",
      "execution_count": null,
      "metadata": {
        "id": "r35ulRI-_3nL"
      },
      "outputs": [],
      "source": [
        "!mv /content/results_med-unsup_train-sup_4classes.zip /content/drive/MyDrive/HIISS/results"
      ]
    },
    {
      "cell_type": "code",
      "execution_count": null,
      "metadata": {
        "colab": {
          "base_uri": "https://localhost:8080/"
        },
        "id": "7ldHjWkj7jiE",
        "outputId": "f7e43cb4-68e0-4a67-d6dd-6828541c6869"
      },
      "outputs": [
        {
          "name": "stdout",
          "output_type": "stream",
          "text": [
            "  adding: content/CAUSE/ (stored 0%)\n",
            "  adding: content/CAUSE/pirelli/ (stored 0%)\n",
            "  adding: content/CAUSE/pirelli/dino_vit_small_8/ (stored 0%)\n",
            "  adding: content/CAUSE/pirelli/dino_vit_small_8/2048/ (stored 0%)\n",
            "  adding: content/CAUSE/pirelli/dino_vit_small_8/2048/cluster_tr.pth (deflated 9%)\n",
            "  adding: content/CAUSE/pirelli/dino_vit_small_8/2048/segment_tr.pth (deflated 7%)\n",
            "  adding: content/CAUSE/pirelli/modularity/ (stored 0%)\n",
            "  adding: content/CAUSE/pirelli/modularity/dino_vit_small_8/ (stored 0%)\n",
            "  adding: content/CAUSE/pirelli/modularity/dino_vit_small_8/2048/ (stored 0%)\n",
            "  adding: content/CAUSE/pirelli/modularity/dino_vit_small_8/2048/modular.npy (deflated 9%)\n"
          ]
        }
      ],
      "source": [
        "!zip -r CAUSE_checkpoint_med-unsup_train-sup_4classes.zip /content/CAUSE"
      ]
    },
    {
      "cell_type": "code",
      "execution_count": null,
      "metadata": {
        "id": "TFj62vuC7vaf"
      },
      "outputs": [],
      "source": [
        "!mv /content/CAUSE_checkpoint_med-unsup_train-sup_4classes.zip /content/drive/MyDrive/HIISS/checkpoints"
      ]
    },
    {
      "cell_type": "markdown",
      "metadata": {
        "id": "egsdgfwKUyAP"
      },
      "source": [
        "## 3 class"
      ]
    },
    {
      "cell_type": "code",
      "execution_count": null,
      "metadata": {
        "id": "Cintj-L-U7Gq"
      },
      "outputs": [],
      "source": [
        "!zip -r results_med-unsup_train-sup_3classes.zip ./results &> /dev/null"
      ]
    },
    {
      "cell_type": "code",
      "execution_count": null,
      "metadata": {
        "id": "v3SILxX3U8a0"
      },
      "outputs": [],
      "source": [
        "!mv /content/results_med-unsup_train-sup_3classes.zip /content/drive/MyDrive/HIISS/results"
      ]
    },
    {
      "cell_type": "code",
      "execution_count": null,
      "metadata": {
        "colab": {
          "base_uri": "https://localhost:8080/"
        },
        "id": "V-W4ZU6SU_Ib",
        "outputId": "f1ae94b1-e65a-4d0b-9019-64dd8f2543c4"
      },
      "outputs": [
        {
          "output_type": "stream",
          "name": "stdout",
          "text": [
            "  adding: content/CAUSE/ (stored 0%)\n",
            "  adding: content/CAUSE/pirelli/ (stored 0%)\n",
            "  adding: content/CAUSE/pirelli/modularity/ (stored 0%)\n",
            "  adding: content/CAUSE/pirelli/modularity/dino_vit_small_8/ (stored 0%)\n",
            "  adding: content/CAUSE/pirelli/modularity/dino_vit_small_8/2048/ (stored 0%)\n",
            "  adding: content/CAUSE/pirelli/modularity/dino_vit_small_8/2048/modular.npy (deflated 10%)\n",
            "  adding: content/CAUSE/pirelli/dino_vit_small_8/ (stored 0%)\n",
            "  adding: content/CAUSE/pirelli/dino_vit_small_8/2048/ (stored 0%)\n",
            "  adding: content/CAUSE/pirelli/dino_vit_small_8/2048/segment_tr.pth (deflated 7%)\n",
            "  adding: content/CAUSE/pirelli/dino_vit_small_8/2048/cluster_tr.pth (deflated 10%)\n"
          ]
        }
      ],
      "source": [
        "!zip -r CAUSE_checkpoint_med-unsup_train-sup_3classes.zip /content/CAUSE"
      ]
    },
    {
      "cell_type": "code",
      "execution_count": null,
      "metadata": {
        "id": "T8IhZDvWVBK4"
      },
      "outputs": [],
      "source": [
        "!mv /content/CAUSE_checkpoint_med-unsup_train-sup_3classes.zip /content/drive/MyDrive/HIISS/checkpoints"
      ]
    }
  ],
  "metadata": {
    "accelerator": "GPU",
    "colab": {
      "collapsed_sections": [
        "VPY1oHwRodnT",
        "MQnyabmO5xw3",
        "0HqrGXoST_R6",
        "cp1K0MRcUKKF",
        "eq6d6JH2UWhB",
        "egsdgfwKUyAP"
      ],
      "provenance": []
    },
    "kernelspec": {
      "display_name": "Python 3",
      "name": "python3"
    },
    "language_info": {
      "name": "python"
    }
  },
  "nbformat": 4,
  "nbformat_minor": 0
}