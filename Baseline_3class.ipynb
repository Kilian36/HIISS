{
  "cells": [
    {
      "cell_type": "markdown",
      "metadata": {
        "id": "Obt55XPnugDP"
      },
      "source": [
        "# 1. Libraries"
      ]
    },
    {
      "cell_type": "code",
      "execution_count": null,
      "metadata": {
        "id": "V29d3TvvY0NW"
      },
      "outputs": [],
      "source": [
        "!pip install -q datasets transformers evaluate &> /dev/null\n",
        "!pip install accelerate -U &> /dev/null"
      ]
    },
    {
      "cell_type": "code",
      "execution_count": null,
      "metadata": {
        "id": "8kwi6SyocJrT"
      },
      "outputs": [],
      "source": [
        "from datasets import Dataset, DatasetDict, Image\n",
        "from PIL import Image as PilImage\n",
        "import os\n",
        "import json\n",
        "from transformers import AutoImageProcessor\n",
        "from torchvision.transforms import ColorJitter\n",
        "import evaluate\n",
        "import numpy as np\n",
        "import torch\n",
        "from torch import nn\n",
        "from tqdm import tqdm\n",
        "from transformers import AutoModelForSemanticSegmentation, TrainingArguments, Trainer\n",
        "from torch.utils.data import DataLoader\n"
      ]
    },
    {
      "cell_type": "code",
      "execution_count": null,
      "metadata": {
        "colab": {
          "base_uri": "https://localhost:8080/"
        },
        "id": "03lazl_SaT7a",
        "outputId": "45705dfc-ed07-4602-eaa7-0118631ecbdb"
      },
      "outputs": [
        {
          "output_type": "stream",
          "name": "stdout",
          "text": [
            "Mounted at /content/drive\n"
          ]
        }
      ],
      "source": [
        "from google.colab import drive\n",
        "drive.mount('/content/drive')"
      ]
    },
    {
      "cell_type": "markdown",
      "source": [
        "## 1.1 Constants"
      ],
      "metadata": {
        "id": "umqJgHav1h0p"
      }
    },
    {
      "cell_type": "code",
      "source": [
        "CHECKPOINT = \"nvidia/mit-b0\"\n",
        "CHUNK_SIZE = 7"
      ],
      "metadata": {
        "id": "In4Il-Fh1lOI"
      },
      "execution_count": null,
      "outputs": []
    },
    {
      "cell_type": "markdown",
      "metadata": {
        "id": "iuQ9Td72Zm_l"
      },
      "source": [
        "# 2. Download Data"
      ]
    },
    {
      "cell_type": "code",
      "execution_count": null,
      "metadata": {
        "id": "Sjr9sSzXh87D"
      },
      "outputs": [],
      "source": [
        "!unzip  /content/drive/MyDrive/PROGETTO-PIRELLI/datasets/Pirelli_3cat.zip -d /content &> /dev/null"
      ]
    },
    {
      "cell_type": "markdown",
      "source": [
        "managing wether to use a supervised dataset composed of 3 or 4 classes"
      ],
      "metadata": {
        "id": "dk6hd0G6zSn4"
      }
    },
    {
      "cell_type": "code",
      "source": [
        "if 'Pirelli_3cat' in os.listdir('/content'):\n",
        "    NUM_CLASSES = 3\n",
        "    base_path = os.path.join('/content','Pirelli_3cat')\n",
        "else:\n",
        "    NUM_CLASSES = 4\n",
        "    base_path = os.path.join('/content','Pirelli_4cat')"
      ],
      "metadata": {
        "id": "SjOgvXOv_RYd"
      },
      "execution_count": null,
      "outputs": []
    },
    {
      "cell_type": "markdown",
      "metadata": {
        "id": "4HCisJZAykoU"
      },
      "source": [
        "## 2.1 Convert the label in grayscale"
      ]
    },
    {
      "cell_type": "code",
      "execution_count": null,
      "metadata": {
        "id": "LaD_No5mt3RB"
      },
      "outputs": [],
      "source": [
        "def conversion(input_directory):\n",
        "  '''\n",
        "  This function force the label image to be in grayscale\n",
        "  '''\n",
        "  for filename in os.listdir(input_directory):\n",
        "\n",
        "      if filename.endswith('.png'):\n",
        "          # Open the original image\n",
        "          input_path = os.path.join(input_directory, filename)\n",
        "          original_image = PilImage.open(input_path)\n",
        "\n",
        "          # Convert the image to grayscale\n",
        "          grayscale_image = original_image.convert('L')\n",
        "\n",
        "          # Save the grayscale image, overwriting the original\n",
        "          grayscale_image.save(input_path)"
      ]
    },
    {
      "cell_type": "code",
      "source": [
        "conversion(os.path.join(base_path,'label','train'))\n",
        "conversion(os.path.join(base_path,'label','val'))"
      ],
      "metadata": {
        "id": "FglFc4hb09X_"
      },
      "execution_count": null,
      "outputs": []
    },
    {
      "cell_type": "markdown",
      "metadata": {
        "id": "LP-B2AdoZzE6"
      },
      "source": [
        "# 3. Dataset creation"
      ]
    },
    {
      "cell_type": "markdown",
      "source": [
        "## 3.1 Create list of paths to retrieve the images"
      ],
      "metadata": {
        "id": "2TOgJrtj1LeM"
      }
    },
    {
      "cell_type": "code",
      "execution_count": null,
      "metadata": {
        "id": "R0DM_f7PZ-F-"
      },
      "outputs": [],
      "source": [
        "def create_paths(base_path, dataset_type):\n",
        "    '''\n",
        "    It defines 2 lists of paths:\n",
        "        - one for the original image\n",
        "        - one for the mask associated to the images\n",
        "    '''\n",
        "    image_paths = []\n",
        "    label_paths = []\n",
        "\n",
        "    image_folder = os.path.join(base_path, 'img', dataset_type)\n",
        "    label_folder = os.path.join(base_path, 'label', dataset_type)\n",
        "\n",
        "    for file in sorted(os.listdir(image_folder)):\n",
        "\n",
        "            if file.endswith('.png'):\n",
        "                image_path = os.path.join(image_folder, file)\n",
        "                image_paths.append(image_path)\n",
        "\n",
        "                label_path = os.path.join(label_folder, os.path.splitext(file)[0] + '.png')\n",
        "                label_paths.append(label_path)\n",
        "\n",
        "    return image_paths, label_paths"
      ]
    },
    {
      "cell_type": "code",
      "source": [
        "image_paths_train, label_paths_train = create_paths(base_path, 'train')\n",
        "image_paths_validation, label_paths_validation = create_paths(base_path, 'val')"
      ],
      "metadata": {
        "id": "E5wphtoL1HsJ"
      },
      "execution_count": null,
      "outputs": []
    },
    {
      "cell_type": "markdown",
      "source": [
        "## 3.2 Create HugFace dataset from the paths"
      ],
      "metadata": {
        "id": "FH6lU7Rg1Ttb"
      }
    },
    {
      "cell_type": "code",
      "execution_count": null,
      "metadata": {
        "id": "Tw2oZ9QkcCUf"
      },
      "outputs": [],
      "source": [
        "def create_dataset(image_paths, label_paths):\n",
        "    dataset = Dataset.from_dict({\"image\": sorted(image_paths),\n",
        "                                 \"label\": sorted(label_paths)})\n",
        "    dataset = dataset.cast_column(\"image\", Image())\n",
        "    dataset = dataset.cast_column(\"label\", Image())\n",
        "\n",
        "    return dataset"
      ]
    },
    {
      "cell_type": "code",
      "source": [
        "train_dataset = create_dataset(image_paths_train, label_paths_train)\n",
        "validation_dataset = create_dataset(image_paths_validation, label_paths_validation)"
      ],
      "metadata": {
        "id": "0sSwZ6cd1aUk"
      },
      "execution_count": null,
      "outputs": []
    },
    {
      "cell_type": "code",
      "source": [
        "ds = validation_dataset.train_test_split(test_size=0.5)"
      ],
      "metadata": {
        "id": "Yq-dhWBtFvgP"
      },
      "execution_count": null,
      "outputs": []
    },
    {
      "cell_type": "code",
      "source": [
        "val = ds['train']\n",
        "test = ds['test']"
      ],
      "metadata": {
        "id": "5SKpYAgrGsdC"
      },
      "execution_count": null,
      "outputs": []
    },
    {
      "cell_type": "markdown",
      "source": [
        "# 4. Image processor"
      ],
      "metadata": {
        "id": "DwrrsiGY7ugg"
      }
    },
    {
      "cell_type": "code",
      "execution_count": null,
      "metadata": {
        "id": "ov20xhS1d48G",
        "colab": {
          "base_uri": "https://localhost:8080/",
          "height": 225,
          "referenced_widgets": [
            "25a8375bd9bd425eb027c19706ece8d4",
            "0e93f648a6d54138a5c588eb76a2967e",
            "1c65fddc40854d47a47be470ecc6371a",
            "e0dd319e9f174451b94d2c547eeb47f9",
            "d5d3891cb5244979a77bfc462501b947",
            "5e6e6359c0d641a1bbeb9b77e2eb158e",
            "2703dc2a285642be9041c1921233015c",
            "3139771df1a44bdd95479d083ff54cb5",
            "26a57d257d184632b7c70a13a1f0c57d",
            "ffd9dd49561f4cec807374b50b9af19a",
            "08cae0dd201a497eb5b293e97de06958"
          ]
        },
        "outputId": "f9ea6d73-7085-4822-97a1-59103828d464"
      },
      "outputs": [
        {
          "output_type": "stream",
          "name": "stderr",
          "text": [
            "/usr/local/lib/python3.10/dist-packages/huggingface_hub/utils/_token.py:88: UserWarning: \n",
            "The secret `HF_TOKEN` does not exist in your Colab secrets.\n",
            "To authenticate with the Hugging Face Hub, create a token in your settings tab (https://huggingface.co/settings/tokens), set it as secret in your Google Colab and restart your session.\n",
            "You will be able to reuse this secret in all of your notebooks.\n",
            "Please note that authentication is recommended but still optional to access public models or datasets.\n",
            "  warnings.warn(\n"
          ]
        },
        {
          "output_type": "display_data",
          "data": {
            "text/plain": [
              "preprocessor_config.json:   0%|          | 0.00/272 [00:00<?, ?B/s]"
            ],
            "application/vnd.jupyter.widget-view+json": {
              "version_major": 2,
              "version_minor": 0,
              "model_id": "25a8375bd9bd425eb027c19706ece8d4"
            }
          },
          "metadata": {}
        },
        {
          "output_type": "stream",
          "name": "stderr",
          "text": [
            "Could not find image processor class in the image processor config or the model config. Loading based on pattern matching with the model's feature extractor configuration.\n",
            "/usr/local/lib/python3.10/dist-packages/transformers/models/segformer/image_processing_segformer.py:101: FutureWarning: The `reduce_labels` parameter is deprecated and will be removed in a future version. Please use `do_reduce_labels` instead.\n",
            "  warnings.warn(\n"
          ]
        }
      ],
      "source": [
        "image_processor = AutoImageProcessor.from_pretrained(CHECKPOINT)"
      ]
    },
    {
      "cell_type": "code",
      "execution_count": null,
      "metadata": {
        "id": "OKdMejpCFfTI"
      },
      "outputs": [],
      "source": [
        "def transforms(example_batch):\n",
        "    images = [x for x in example_batch[\"image\"]]\n",
        "    labels = [x for x in example_batch[\"label\"]]\n",
        "    inputs = image_processor(images, labels)\n",
        "    return inputs"
      ]
    },
    {
      "cell_type": "code",
      "source": [
        "train_dataset.set_transform(transforms)\n",
        "val.set_transform(transforms)"
      ],
      "metadata": {
        "id": "vMcYXUQQ1foo"
      },
      "execution_count": null,
      "outputs": []
    },
    {
      "cell_type": "markdown",
      "source": [
        "# 5. Metrics"
      ],
      "metadata": {
        "id": "ztLjg8eK74Ua"
      }
    },
    {
      "cell_type": "markdown",
      "source": [
        "## 5.1 IoU Loading"
      ],
      "metadata": {
        "id": "aMru-gF51zUh"
      }
    },
    {
      "cell_type": "code",
      "execution_count": null,
      "metadata": {
        "id": "ggHgLjK8egD_",
        "colab": {
          "base_uri": "https://localhost:8080/",
          "height": 49,
          "referenced_widgets": [
            "25efcf6628ff4ec7b5e932e1908919b3",
            "a553f8c0dc854ce9898fe7995cdda166",
            "ea4083af7e7f4f2abec49cabc2dbc299",
            "a7013ba08a234878a0d6de040c53f931",
            "95c1a411fcbc4c2eab65f8301e85c936",
            "bc2f2ffb936249359a221bbe579db4da",
            "912ac592b88d421cb2a5652fcfe2791c",
            "81324c2ae4cc4c7b94324079e19bb4a0",
            "b96c3c619a5e46f4a7519a199b6f47d5",
            "eee25cced58642f9a8a8f8e27e0aeec7",
            "fc8e350229214cc596f620a452bc610a"
          ]
        },
        "outputId": "30006e4f-959c-4ec6-d818-41ce74416b47"
      },
      "outputs": [
        {
          "output_type": "display_data",
          "data": {
            "text/plain": [
              "Downloading builder script:   0%|          | 0.00/13.1k [00:00<?, ?B/s]"
            ],
            "application/vnd.jupyter.widget-view+json": {
              "version_major": 2,
              "version_minor": 0,
              "model_id": "25efcf6628ff4ec7b5e932e1908919b3"
            }
          },
          "metadata": {}
        }
      ],
      "source": [
        "metric = evaluate.load(\"mean_iou\")"
      ]
    },
    {
      "cell_type": "markdown",
      "source": [
        "## 5.2 Compute IoU on predictions"
      ],
      "metadata": {
        "id": "PAN8Fjck118v"
      }
    },
    {
      "cell_type": "code",
      "execution_count": null,
      "metadata": {
        "id": "WbFGx7iSemk2"
      },
      "outputs": [],
      "source": [
        "def compute_metrics(eval_pred):\n",
        "    '''\n",
        "    This function takes in input the whole validation set of shape\n",
        "    Num_Samples X Num_Patches X H_Patch X W_Patch and evaluate it on the IoU.\n",
        "    Due to the fact that interpolation is quite expensive on the whole eval dataset it\n",
        "    is performed in chunks and then the output concatenated for evaluation.\n",
        "    '''\n",
        "\n",
        "    with torch.no_grad():\n",
        "        logits, labels = eval_pred\n",
        "        num_chunks = (logits.shape[0] + CHUNK_SIZE - 1) // CHUNK_SIZE\n",
        "\n",
        "        pred_labels_chunks = []\n",
        "\n",
        "        for i in tqdm(range(num_chunks)):\n",
        "            start_idx = i * CHUNK_SIZE\n",
        "            end_idx = min((i + 1) * CHUNK_SIZE, logits.shape[0])\n",
        "\n",
        "            #chunk selection\n",
        "            logits_chunk = logits[start_idx:end_idx, :, :, :]\n",
        "            logits_tensor = torch.from_numpy(logits_chunk)\n",
        "\n",
        "            #interpolation\n",
        "            logits_tensor = nn.functional.interpolate(\n",
        "                logits_tensor,\n",
        "                size=labels.shape[-2:],\n",
        "                mode=\"bilinear\",\n",
        "                align_corners=False,\n",
        "            ).argmax(dim=1)\n",
        "\n",
        "            pred_labels_chunks.append(logits_tensor.detach().cpu())  # Move back to CPU for concatenation\n",
        "\n",
        "        #concatenation\n",
        "        pred_labels = torch.cat(pred_labels_chunks, dim=0).numpy()\n",
        "\n",
        "        #evaluation\n",
        "        metrics = metric.compute(\n",
        "            predictions=pred_labels,\n",
        "            references=labels,\n",
        "            num_labels=NUM_CLASSES,\n",
        "            ignore_index=255,\n",
        "            reduce_labels=False,\n",
        "        )\n",
        "\n",
        "        for key, value in metrics.items():\n",
        "            if isinstance(value, np.ndarray):\n",
        "                metrics[key] = np.round(value, 2).tolist()\n",
        "\n",
        "        return metrics"
      ]
    },
    {
      "cell_type": "markdown",
      "metadata": {
        "id": "U4IWeQ9Q5Sah"
      },
      "source": [
        "# 6. Training"
      ]
    },
    {
      "cell_type": "code",
      "execution_count": null,
      "metadata": {
        "colab": {
          "base_uri": "https://localhost:8080/",
          "height": 136,
          "referenced_widgets": [
            "5444dc5e3fbc4111bc8f7380adcaf7b0",
            "1a73b2a4cb4341ddb0c45db171b857b8",
            "105caacee60f428f97572b1a42d268cf",
            "e6c7c83ecb4346eb81bb10900ec901da",
            "858043b75c4e4d5e8ed627603a3dd80d",
            "cea305fa3eb64f73a5c73273d10c764b",
            "0a9cc8fbb9024a6b8b1a878a181247ec",
            "3bc6cc4e0222406ba7874c14586cd7f5",
            "497652e478694ed88561141fae01089b",
            "28c816e2bb8b4e96b4a06c7130840a8c",
            "2e207b9e0982498d88f5cc981a9be89b",
            "7c4b84a54e6a4b35a4fd349f204147e7",
            "65320bb22f43487482b45ff3fcfcd33e",
            "00de722ada7446359e8a182ff0292275",
            "419942118cb54014a1adbe2be484446b",
            "af3d85682c324ba2a0364b6b2967f1ff",
            "641e1666f8c8431297a84019adb9162f",
            "bfa88ded59514f61b3f63a8c57be2afc",
            "c3e74014f2764a7fb6792332be9af704",
            "6b517a714ceb44c7b61bf60988cbca87",
            "320d347dbe9546dfaf56c014d4db3595",
            "2ab3b0607736472f8be06c40117346de"
          ]
        },
        "id": "jGmrL5L_eo9f",
        "outputId": "0ef4883f-ad5b-4aeb-e5c5-2c3ab10faa4a"
      },
      "outputs": [
        {
          "output_type": "display_data",
          "data": {
            "text/plain": [
              "config.json:   0%|          | 0.00/70.0k [00:00<?, ?B/s]"
            ],
            "application/vnd.jupyter.widget-view+json": {
              "version_major": 2,
              "version_minor": 0,
              "model_id": "5444dc5e3fbc4111bc8f7380adcaf7b0"
            }
          },
          "metadata": {}
        },
        {
          "output_type": "display_data",
          "data": {
            "text/plain": [
              "pytorch_model.bin:   0%|          | 0.00/14.4M [00:00<?, ?B/s]"
            ],
            "application/vnd.jupyter.widget-view+json": {
              "version_major": 2,
              "version_minor": 0,
              "model_id": "7c4b84a54e6a4b35a4fd349f204147e7"
            }
          },
          "metadata": {}
        },
        {
          "output_type": "stream",
          "name": "stderr",
          "text": [
            "Some weights of SegformerForSemanticSegmentation were not initialized from the model checkpoint at nvidia/mit-b0 and are newly initialized: ['decode_head.linear_c.0.proj.weight', 'decode_head.classifier.weight', 'decode_head.linear_c.3.proj.bias', 'decode_head.batch_norm.num_batches_tracked', 'decode_head.batch_norm.weight', 'decode_head.linear_c.3.proj.weight', 'decode_head.linear_c.1.proj.weight', 'decode_head.linear_c.1.proj.bias', 'decode_head.linear_c.0.proj.bias', 'decode_head.classifier.bias', 'decode_head.linear_c.2.proj.weight', 'decode_head.batch_norm.running_var', 'decode_head.batch_norm.bias', 'decode_head.linear_c.2.proj.bias', 'decode_head.linear_fuse.weight', 'decode_head.batch_norm.running_mean']\n",
            "You should probably TRAIN this model on a down-stream task to be able to use it for predictions and inference.\n"
          ]
        }
      ],
      "source": [
        "model = AutoModelForSemanticSegmentation.from_pretrained(CHECKPOINT)"
      ]
    },
    {
      "cell_type": "code",
      "execution_count": null,
      "metadata": {
        "colab": {
          "base_uri": "https://localhost:8080/"
        },
        "id": "ZaCK8v71H-SQ",
        "outputId": "371b7cd2-5cd7-4253-a4eb-8b6aae78156a"
      },
      "outputs": [
        {
          "output_type": "stream",
          "name": "stdout",
          "text": [
            "Total Trainable Parameters: 3971144\n"
          ]
        }
      ],
      "source": [
        "total_params = sum(p.numel() for p in model.parameters() if p.requires_grad)\n",
        "print(f\"Total Trainable Parameters: {total_params}\")"
      ]
    },
    {
      "cell_type": "code",
      "execution_count": null,
      "metadata": {
        "colab": {
          "base_uri": "https://localhost:8080/",
          "height": 651
        },
        "id": "hD0RuxDwermm",
        "outputId": "b1c94274-a268-46ba-ff6e-1ab9814f90d6"
      },
      "outputs": [
        {
          "output_type": "display_data",
          "data": {
            "text/plain": [
              "<IPython.core.display.HTML object>"
            ],
            "text/html": [
              "\n",
              "    <div>\n",
              "      \n",
              "      <progress value='220' max='220' style='width:300px; height:20px; vertical-align: middle;'></progress>\n",
              "      [220/220 07:52, Epoch 5/5]\n",
              "    </div>\n",
              "    <table border=\"1\" class=\"dataframe\">\n",
              "  <thead>\n",
              " <tr style=\"text-align: left;\">\n",
              "      <th>Epoch</th>\n",
              "      <th>Training Loss</th>\n",
              "      <th>Validation Loss</th>\n",
              "      <th>Mean Iou</th>\n",
              "      <th>Mean Accuracy</th>\n",
              "      <th>Overall Accuracy</th>\n",
              "      <th>Per Category Iou</th>\n",
              "      <th>Per Category Accuracy</th>\n",
              "    </tr>\n",
              "  </thead>\n",
              "  <tbody>\n",
              "    <tr>\n",
              "      <td>1</td>\n",
              "      <td>0.080800</td>\n",
              "      <td>0.739000</td>\n",
              "      <td>0.546341</td>\n",
              "      <td>0.601814</td>\n",
              "      <td>0.883046</td>\n",
              "      <td>[0.86, 0.75, 0.02]</td>\n",
              "      <td>[0.99, 0.8, 0.02]</td>\n",
              "    </tr>\n",
              "    <tr>\n",
              "      <td>2</td>\n",
              "      <td>0.059300</td>\n",
              "      <td>0.693851</td>\n",
              "      <td>0.568657</td>\n",
              "      <td>0.615908</td>\n",
              "      <td>0.892929</td>\n",
              "      <td>[0.87, 0.79, 0.05]</td>\n",
              "      <td>[1.0, 0.8, 0.05]</td>\n",
              "    </tr>\n",
              "    <tr>\n",
              "      <td>3</td>\n",
              "      <td>0.039100</td>\n",
              "      <td>0.466128</td>\n",
              "      <td>0.604634</td>\n",
              "      <td>0.646807</td>\n",
              "      <td>0.908299</td>\n",
              "      <td>[0.89, 0.84, 0.09]</td>\n",
              "      <td>[1.0, 0.85, 0.09]</td>\n",
              "    </tr>\n",
              "    <tr>\n",
              "      <td>4</td>\n",
              "      <td>0.050100</td>\n",
              "      <td>0.393138</td>\n",
              "      <td>0.616070</td>\n",
              "      <td>0.656942</td>\n",
              "      <td>0.913297</td>\n",
              "      <td>[0.89, 0.85, 0.1]</td>\n",
              "      <td>[1.0, 0.87, 0.11]</td>\n",
              "    </tr>\n",
              "    <tr>\n",
              "      <td>5</td>\n",
              "      <td>0.020800</td>\n",
              "      <td>0.285006</td>\n",
              "      <td>0.660074</td>\n",
              "      <td>0.695019</td>\n",
              "      <td>0.934377</td>\n",
              "      <td>[0.92, 0.93, 0.14]</td>\n",
              "      <td>[0.99, 0.95, 0.14]</td>\n",
              "    </tr>\n",
              "  </tbody>\n",
              "</table><p>"
            ]
          },
          "metadata": {}
        },
        {
          "output_type": "stream",
          "name": "stderr",
          "text": [
            "100%|██████████| 4/4 [00:38<00:00,  9.51s/it]\n",
            "Trainer is attempting to log a value of \"[0.86, 0.75, 0.02]\" of type <class 'list'> for key \"eval/per_category_iou\" as a scalar. This invocation of Tensorboard's writer.add_scalar() is incorrect so we dropped this attribute.\n",
            "Trainer is attempting to log a value of \"[0.99, 0.8, 0.02]\" of type <class 'list'> for key \"eval/per_category_accuracy\" as a scalar. This invocation of Tensorboard's writer.add_scalar() is incorrect so we dropped this attribute.\n",
            "100%|██████████| 4/4 [00:34<00:00,  8.51s/it]\n",
            "Trainer is attempting to log a value of \"[0.87, 0.79, 0.05]\" of type <class 'list'> for key \"eval/per_category_iou\" as a scalar. This invocation of Tensorboard's writer.add_scalar() is incorrect so we dropped this attribute.\n",
            "Trainer is attempting to log a value of \"[1.0, 0.8, 0.05]\" of type <class 'list'> for key \"eval/per_category_accuracy\" as a scalar. This invocation of Tensorboard's writer.add_scalar() is incorrect so we dropped this attribute.\n",
            "100%|██████████| 4/4 [00:34<00:00,  8.51s/it]\n",
            "Trainer is attempting to log a value of \"[0.89, 0.84, 0.09]\" of type <class 'list'> for key \"eval/per_category_iou\" as a scalar. This invocation of Tensorboard's writer.add_scalar() is incorrect so we dropped this attribute.\n",
            "Trainer is attempting to log a value of \"[1.0, 0.85, 0.09]\" of type <class 'list'> for key \"eval/per_category_accuracy\" as a scalar. This invocation of Tensorboard's writer.add_scalar() is incorrect so we dropped this attribute.\n",
            "100%|██████████| 4/4 [00:34<00:00,  8.50s/it]\n",
            "Trainer is attempting to log a value of \"[0.89, 0.85, 0.1]\" of type <class 'list'> for key \"eval/per_category_iou\" as a scalar. This invocation of Tensorboard's writer.add_scalar() is incorrect so we dropped this attribute.\n",
            "Trainer is attempting to log a value of \"[1.0, 0.87, 0.11]\" of type <class 'list'> for key \"eval/per_category_accuracy\" as a scalar. This invocation of Tensorboard's writer.add_scalar() is incorrect so we dropped this attribute.\n",
            "100%|██████████| 4/4 [00:33<00:00,  8.44s/it]\n",
            "Trainer is attempting to log a value of \"[0.92, 0.93, 0.14]\" of type <class 'list'> for key \"eval/per_category_iou\" as a scalar. This invocation of Tensorboard's writer.add_scalar() is incorrect so we dropped this attribute.\n",
            "Trainer is attempting to log a value of \"[0.99, 0.95, 0.14]\" of type <class 'list'> for key \"eval/per_category_accuracy\" as a scalar. This invocation of Tensorboard's writer.add_scalar() is incorrect so we dropped this attribute.\n"
          ]
        },
        {
          "output_type": "execute_result",
          "data": {
            "text/plain": [
              "TrainOutput(global_step=220, training_loss=0.10756594415076755, metrics={'train_runtime': 473.7377, 'train_samples_per_second': 0.918, 'train_steps_per_second': 0.464, 'total_flos': 8151120614522880.0, 'train_loss': 0.10756594415076755, 'epoch': 5.0})"
            ]
          },
          "metadata": {},
          "execution_count": 24
        }
      ],
      "source": [
        "training_args = TrainingArguments(\n",
        "    output_dir=\"pirelli\",\n",
        "    learning_rate=1e-3,\n",
        "    num_train_epochs=5,\n",
        "    per_device_train_batch_size=2,\n",
        "    per_device_eval_batch_size=2,\n",
        "    evaluation_strategy=\"epoch\",\n",
        "    save_strategy=\"epoch\",\n",
        "    remove_unused_columns=False,\n",
        "    load_best_model_at_end = True,\n",
        "    logging_steps=1\n",
        ")\n",
        "\n",
        "trainer = Trainer(\n",
        "    model=model,\n",
        "    args=training_args,\n",
        "    train_dataset=train_dataset,\n",
        "    eval_dataset=val,\n",
        "    compute_metrics= compute_metrics\n",
        ")\n",
        "\n",
        "trainer.train()"
      ]
    },
    {
      "cell_type": "code",
      "source": [
        "torch.cuda.empty_cache()"
      ],
      "metadata": {
        "id": "EwJiMsdG4581"
      },
      "execution_count": null,
      "outputs": []
    },
    {
      "cell_type": "markdown",
      "metadata": {
        "id": "6dlKnS-xnhdM"
      },
      "source": [
        "# Inference"
      ]
    },
    {
      "cell_type": "code",
      "source": [
        "device = torch.device(\"cuda\" if torch.cuda.is_available() else \"cpu\")  # use GPU if available, otherwise use a CPU"
      ],
      "metadata": {
        "id": "pE5kUqytwHID"
      },
      "execution_count": null,
      "outputs": []
    },
    {
      "cell_type": "code",
      "source": [
        "model = AutoModelForSemanticSegmentation.from_pretrained('/content/drive/MyDrive/check/checkpoint-44').to(device)"
      ],
      "metadata": {
        "id": "fdSUUCuVuyt7"
      },
      "execution_count": null,
      "outputs": []
    },
    {
      "cell_type": "code",
      "source": [
        "validation_dataset = create_dataset(image_paths_validation, label_paths_validation)"
      ],
      "metadata": {
        "id": "KIUdv_Inul1f"
      },
      "execution_count": null,
      "outputs": []
    },
    {
      "cell_type": "code",
      "source": [
        "class_to_color = {\n",
        "    0: (0, 0, 0),  # Color for class 0\n",
        "    1: (255, 0, 0),  # Color for class 1\n",
        "    2: (0, 255, 0),  # Color for class 2\n",
        "}"
      ],
      "metadata": {
        "id": "7-Ux_je7vufc"
      },
      "execution_count": null,
      "outputs": []
    },
    {
      "cell_type": "code",
      "source": [
        "os.makedirs('/content/results')"
      ],
      "metadata": {
        "id": "DrUgT3kFfEvI"
      },
      "execution_count": null,
      "outputs": []
    },
    {
      "cell_type": "code",
      "source": [
        "for i, el in enumerate(validation_dataset):\n",
        "    image = el['image']\n",
        "    encoding = image_processor(image, return_tensors=\"pt\")\n",
        "    pixel_values = encoding.pixel_values.to(device)\n",
        "    outputs = model(pixel_values=pixel_values)\n",
        "    logits = outputs.logits.cpu()\n",
        "    upsampled_logits = nn.functional.interpolate(\n",
        "        logits,\n",
        "        size=image.size[::-1],\n",
        "        mode=\"bilinear\",\n",
        "        align_corners=False,\n",
        "    )\n",
        "    pred_seg = upsampled_logits.argmax(dim=1)[0]\n",
        "    img = np.zeros((pred_seg.shape[0], pred_seg.shape[1], 3), dtype=np.uint8)\n",
        "    for class_value, color in class_to_color.items():\n",
        "        img[pred_seg == class_value] = color\n",
        "\n",
        "    segmented_image_np = PilImage.fromarray(img)\n",
        "    segmented_image_np.save(os.path.join('results',str(i)+'.png'))\n",
        "    torch.cuda.empty_cache()"
      ],
      "metadata": {
        "id": "PbY7cMuqutAf"
      },
      "execution_count": null,
      "outputs": []
    },
    {
      "cell_type": "code",
      "source": [
        "!zip -r result_baseline3cat.zip /content/results"
      ],
      "metadata": {
        "colab": {
          "base_uri": "https://localhost:8080/"
        },
        "id": "NapU9qezxqL1",
        "outputId": "785faf2e-cb74-4c19-81fa-0619f4e105c2"
      },
      "execution_count": null,
      "outputs": [
        {
          "output_type": "stream",
          "name": "stdout",
          "text": [
            "  adding: content/results/ (stored 0%)\n",
            "  adding: content/results/21.png (deflated 4%)\n",
            "  adding: content/results/16.png (deflated 10%)\n",
            "  adding: content/results/38.png (deflated 14%)\n",
            "  adding: content/results/36.png (deflated 45%)\n",
            "  adding: content/results/41.png (deflated 40%)\n",
            "  adding: content/results/8.png (deflated 24%)\n",
            "  adding: content/results/27.png (deflated 6%)\n",
            "  adding: content/results/40.png (deflated 56%)\n",
            "  adding: content/results/30.png (deflated 27%)\n",
            "  adding: content/results/18.png (deflated 6%)\n",
            "  adding: content/results/19.png (deflated 3%)\n",
            "  adding: content/results/14.png (deflated 19%)\n",
            "  adding: content/results/23.png (deflated 84%)\n",
            "  adding: content/results/31.png (deflated 18%)\n",
            "  adding: content/results/2.png (deflated 30%)\n",
            "  adding: content/results/17.png (deflated 3%)\n",
            "  adding: content/results/10.png (deflated 85%)\n",
            "  adding: content/results/28.png (deflated 16%)\n",
            "  adding: content/results/15.png (deflated 58%)\n",
            "  adding: content/results/9.png (deflated 85%)\n",
            "  adding: content/results/12.png (deflated 88%)\n",
            "  adding: content/results/34.png (deflated 8%)\n",
            "  adding: content/results/26.png (deflated 8%)\n",
            "  adding: content/results/11.png (deflated 88%)\n",
            "  adding: content/results/42.png (deflated 36%)\n",
            "  adding: content/results/6.png (deflated 5%)\n",
            "  adding: content/results/7.png (deflated 16%)\n",
            "  adding: content/results/0.png (deflated 90%)\n",
            "  adding: content/results/20.png (deflated 5%)\n",
            "  adding: content/results/43.png (deflated 84%)\n",
            "  adding: content/results/3.png (deflated 7%)\n",
            "  adding: content/results/4.png (deflated 3%)\n",
            "  adding: content/results/13.png (deflated 90%)\n",
            "  adding: content/results/22.png (deflated 21%)\n",
            "  adding: content/results/5.png (deflated 4%)\n",
            "  adding: content/results/35.png (deflated 32%)\n",
            "  adding: content/results/44.png (deflated 45%)\n",
            "  adding: content/results/32.png (deflated 26%)\n",
            "  adding: content/results/25.png (deflated 16%)\n",
            "  adding: content/results/1.png (deflated 41%)\n",
            "  adding: content/results/24.png (deflated 52%)\n",
            "  adding: content/results/39.png (deflated 16%)\n",
            "  adding: content/results/29.png (deflated 63%)\n",
            "  adding: content/results/37.png (deflated 46%)\n",
            "  adding: content/results/33.png (deflated 1%)\n"
          ]
        }
      ]
    },
    {
      "cell_type": "code",
      "source": [
        "!mv /content/result_baseline3cat.zip /content/drive/MyDrive/PROGETTO-PIRELLI/results"
      ],
      "metadata": {
        "id": "HmhvGKcUxtir"
      },
      "execution_count": null,
      "outputs": []
    }
  ],
  "metadata": {
    "accelerator": "GPU",
    "colab": {
      "collapsed_sections": [
        "Obt55XPnugDP",
        "4HCisJZAykoU",
        "2TOgJrtj1LeM",
        "FH6lU7Rg1Ttb"
      ],
      "provenance": []
    },
    "kernelspec": {
      "display_name": "Python 3",
      "name": "python3"
    },
    "language_info": {
      "name": "python"
    },
    "widgets": {
      "application/vnd.jupyter.widget-state+json": {
        "25a8375bd9bd425eb027c19706ece8d4": {
          "model_module": "@jupyter-widgets/controls",
          "model_name": "HBoxModel",
          "model_module_version": "1.5.0",
          "state": {
            "_dom_classes": [],
            "_model_module": "@jupyter-widgets/controls",
            "_model_module_version": "1.5.0",
            "_model_name": "HBoxModel",
            "_view_count": null,
            "_view_module": "@jupyter-widgets/controls",
            "_view_module_version": "1.5.0",
            "_view_name": "HBoxView",
            "box_style": "",
            "children": [
              "IPY_MODEL_0e93f648a6d54138a5c588eb76a2967e",
              "IPY_MODEL_1c65fddc40854d47a47be470ecc6371a",
              "IPY_MODEL_e0dd319e9f174451b94d2c547eeb47f9"
            ],
            "layout": "IPY_MODEL_d5d3891cb5244979a77bfc462501b947"
          }
        },
        "0e93f648a6d54138a5c588eb76a2967e": {
          "model_module": "@jupyter-widgets/controls",
          "model_name": "HTMLModel",
          "model_module_version": "1.5.0",
          "state": {
            "_dom_classes": [],
            "_model_module": "@jupyter-widgets/controls",
            "_model_module_version": "1.5.0",
            "_model_name": "HTMLModel",
            "_view_count": null,
            "_view_module": "@jupyter-widgets/controls",
            "_view_module_version": "1.5.0",
            "_view_name": "HTMLView",
            "description": "",
            "description_tooltip": null,
            "layout": "IPY_MODEL_5e6e6359c0d641a1bbeb9b77e2eb158e",
            "placeholder": "​",
            "style": "IPY_MODEL_2703dc2a285642be9041c1921233015c",
            "value": "preprocessor_config.json: 100%"
          }
        },
        "1c65fddc40854d47a47be470ecc6371a": {
          "model_module": "@jupyter-widgets/controls",
          "model_name": "FloatProgressModel",
          "model_module_version": "1.5.0",
          "state": {
            "_dom_classes": [],
            "_model_module": "@jupyter-widgets/controls",
            "_model_module_version": "1.5.0",
            "_model_name": "FloatProgressModel",
            "_view_count": null,
            "_view_module": "@jupyter-widgets/controls",
            "_view_module_version": "1.5.0",
            "_view_name": "ProgressView",
            "bar_style": "success",
            "description": "",
            "description_tooltip": null,
            "layout": "IPY_MODEL_3139771df1a44bdd95479d083ff54cb5",
            "max": 272,
            "min": 0,
            "orientation": "horizontal",
            "style": "IPY_MODEL_26a57d257d184632b7c70a13a1f0c57d",
            "value": 272
          }
        },
        "e0dd319e9f174451b94d2c547eeb47f9": {
          "model_module": "@jupyter-widgets/controls",
          "model_name": "HTMLModel",
          "model_module_version": "1.5.0",
          "state": {
            "_dom_classes": [],
            "_model_module": "@jupyter-widgets/controls",
            "_model_module_version": "1.5.0",
            "_model_name": "HTMLModel",
            "_view_count": null,
            "_view_module": "@jupyter-widgets/controls",
            "_view_module_version": "1.5.0",
            "_view_name": "HTMLView",
            "description": "",
            "description_tooltip": null,
            "layout": "IPY_MODEL_ffd9dd49561f4cec807374b50b9af19a",
            "placeholder": "​",
            "style": "IPY_MODEL_08cae0dd201a497eb5b293e97de06958",
            "value": " 272/272 [00:00&lt;00:00, 17.4kB/s]"
          }
        },
        "d5d3891cb5244979a77bfc462501b947": {
          "model_module": "@jupyter-widgets/base",
          "model_name": "LayoutModel",
          "model_module_version": "1.2.0",
          "state": {
            "_model_module": "@jupyter-widgets/base",
            "_model_module_version": "1.2.0",
            "_model_name": "LayoutModel",
            "_view_count": null,
            "_view_module": "@jupyter-widgets/base",
            "_view_module_version": "1.2.0",
            "_view_name": "LayoutView",
            "align_content": null,
            "align_items": null,
            "align_self": null,
            "border": null,
            "bottom": null,
            "display": null,
            "flex": null,
            "flex_flow": null,
            "grid_area": null,
            "grid_auto_columns": null,
            "grid_auto_flow": null,
            "grid_auto_rows": null,
            "grid_column": null,
            "grid_gap": null,
            "grid_row": null,
            "grid_template_areas": null,
            "grid_template_columns": null,
            "grid_template_rows": null,
            "height": null,
            "justify_content": null,
            "justify_items": null,
            "left": null,
            "margin": null,
            "max_height": null,
            "max_width": null,
            "min_height": null,
            "min_width": null,
            "object_fit": null,
            "object_position": null,
            "order": null,
            "overflow": null,
            "overflow_x": null,
            "overflow_y": null,
            "padding": null,
            "right": null,
            "top": null,
            "visibility": null,
            "width": null
          }
        },
        "5e6e6359c0d641a1bbeb9b77e2eb158e": {
          "model_module": "@jupyter-widgets/base",
          "model_name": "LayoutModel",
          "model_module_version": "1.2.0",
          "state": {
            "_model_module": "@jupyter-widgets/base",
            "_model_module_version": "1.2.0",
            "_model_name": "LayoutModel",
            "_view_count": null,
            "_view_module": "@jupyter-widgets/base",
            "_view_module_version": "1.2.0",
            "_view_name": "LayoutView",
            "align_content": null,
            "align_items": null,
            "align_self": null,
            "border": null,
            "bottom": null,
            "display": null,
            "flex": null,
            "flex_flow": null,
            "grid_area": null,
            "grid_auto_columns": null,
            "grid_auto_flow": null,
            "grid_auto_rows": null,
            "grid_column": null,
            "grid_gap": null,
            "grid_row": null,
            "grid_template_areas": null,
            "grid_template_columns": null,
            "grid_template_rows": null,
            "height": null,
            "justify_content": null,
            "justify_items": null,
            "left": null,
            "margin": null,
            "max_height": null,
            "max_width": null,
            "min_height": null,
            "min_width": null,
            "object_fit": null,
            "object_position": null,
            "order": null,
            "overflow": null,
            "overflow_x": null,
            "overflow_y": null,
            "padding": null,
            "right": null,
            "top": null,
            "visibility": null,
            "width": null
          }
        },
        "2703dc2a285642be9041c1921233015c": {
          "model_module": "@jupyter-widgets/controls",
          "model_name": "DescriptionStyleModel",
          "model_module_version": "1.5.0",
          "state": {
            "_model_module": "@jupyter-widgets/controls",
            "_model_module_version": "1.5.0",
            "_model_name": "DescriptionStyleModel",
            "_view_count": null,
            "_view_module": "@jupyter-widgets/base",
            "_view_module_version": "1.2.0",
            "_view_name": "StyleView",
            "description_width": ""
          }
        },
        "3139771df1a44bdd95479d083ff54cb5": {
          "model_module": "@jupyter-widgets/base",
          "model_name": "LayoutModel",
          "model_module_version": "1.2.0",
          "state": {
            "_model_module": "@jupyter-widgets/base",
            "_model_module_version": "1.2.0",
            "_model_name": "LayoutModel",
            "_view_count": null,
            "_view_module": "@jupyter-widgets/base",
            "_view_module_version": "1.2.0",
            "_view_name": "LayoutView",
            "align_content": null,
            "align_items": null,
            "align_self": null,
            "border": null,
            "bottom": null,
            "display": null,
            "flex": null,
            "flex_flow": null,
            "grid_area": null,
            "grid_auto_columns": null,
            "grid_auto_flow": null,
            "grid_auto_rows": null,
            "grid_column": null,
            "grid_gap": null,
            "grid_row": null,
            "grid_template_areas": null,
            "grid_template_columns": null,
            "grid_template_rows": null,
            "height": null,
            "justify_content": null,
            "justify_items": null,
            "left": null,
            "margin": null,
            "max_height": null,
            "max_width": null,
            "min_height": null,
            "min_width": null,
            "object_fit": null,
            "object_position": null,
            "order": null,
            "overflow": null,
            "overflow_x": null,
            "overflow_y": null,
            "padding": null,
            "right": null,
            "top": null,
            "visibility": null,
            "width": null
          }
        },
        "26a57d257d184632b7c70a13a1f0c57d": {
          "model_module": "@jupyter-widgets/controls",
          "model_name": "ProgressStyleModel",
          "model_module_version": "1.5.0",
          "state": {
            "_model_module": "@jupyter-widgets/controls",
            "_model_module_version": "1.5.0",
            "_model_name": "ProgressStyleModel",
            "_view_count": null,
            "_view_module": "@jupyter-widgets/base",
            "_view_module_version": "1.2.0",
            "_view_name": "StyleView",
            "bar_color": null,
            "description_width": ""
          }
        },
        "ffd9dd49561f4cec807374b50b9af19a": {
          "model_module": "@jupyter-widgets/base",
          "model_name": "LayoutModel",
          "model_module_version": "1.2.0",
          "state": {
            "_model_module": "@jupyter-widgets/base",
            "_model_module_version": "1.2.0",
            "_model_name": "LayoutModel",
            "_view_count": null,
            "_view_module": "@jupyter-widgets/base",
            "_view_module_version": "1.2.0",
            "_view_name": "LayoutView",
            "align_content": null,
            "align_items": null,
            "align_self": null,
            "border": null,
            "bottom": null,
            "display": null,
            "flex": null,
            "flex_flow": null,
            "grid_area": null,
            "grid_auto_columns": null,
            "grid_auto_flow": null,
            "grid_auto_rows": null,
            "grid_column": null,
            "grid_gap": null,
            "grid_row": null,
            "grid_template_areas": null,
            "grid_template_columns": null,
            "grid_template_rows": null,
            "height": null,
            "justify_content": null,
            "justify_items": null,
            "left": null,
            "margin": null,
            "max_height": null,
            "max_width": null,
            "min_height": null,
            "min_width": null,
            "object_fit": null,
            "object_position": null,
            "order": null,
            "overflow": null,
            "overflow_x": null,
            "overflow_y": null,
            "padding": null,
            "right": null,
            "top": null,
            "visibility": null,
            "width": null
          }
        },
        "08cae0dd201a497eb5b293e97de06958": {
          "model_module": "@jupyter-widgets/controls",
          "model_name": "DescriptionStyleModel",
          "model_module_version": "1.5.0",
          "state": {
            "_model_module": "@jupyter-widgets/controls",
            "_model_module_version": "1.5.0",
            "_model_name": "DescriptionStyleModel",
            "_view_count": null,
            "_view_module": "@jupyter-widgets/base",
            "_view_module_version": "1.2.0",
            "_view_name": "StyleView",
            "description_width": ""
          }
        },
        "25efcf6628ff4ec7b5e932e1908919b3": {
          "model_module": "@jupyter-widgets/controls",
          "model_name": "HBoxModel",
          "model_module_version": "1.5.0",
          "state": {
            "_dom_classes": [],
            "_model_module": "@jupyter-widgets/controls",
            "_model_module_version": "1.5.0",
            "_model_name": "HBoxModel",
            "_view_count": null,
            "_view_module": "@jupyter-widgets/controls",
            "_view_module_version": "1.5.0",
            "_view_name": "HBoxView",
            "box_style": "",
            "children": [
              "IPY_MODEL_a553f8c0dc854ce9898fe7995cdda166",
              "IPY_MODEL_ea4083af7e7f4f2abec49cabc2dbc299",
              "IPY_MODEL_a7013ba08a234878a0d6de040c53f931"
            ],
            "layout": "IPY_MODEL_95c1a411fcbc4c2eab65f8301e85c936"
          }
        },
        "a553f8c0dc854ce9898fe7995cdda166": {
          "model_module": "@jupyter-widgets/controls",
          "model_name": "HTMLModel",
          "model_module_version": "1.5.0",
          "state": {
            "_dom_classes": [],
            "_model_module": "@jupyter-widgets/controls",
            "_model_module_version": "1.5.0",
            "_model_name": "HTMLModel",
            "_view_count": null,
            "_view_module": "@jupyter-widgets/controls",
            "_view_module_version": "1.5.0",
            "_view_name": "HTMLView",
            "description": "",
            "description_tooltip": null,
            "layout": "IPY_MODEL_bc2f2ffb936249359a221bbe579db4da",
            "placeholder": "​",
            "style": "IPY_MODEL_912ac592b88d421cb2a5652fcfe2791c",
            "value": "Downloading builder script: 100%"
          }
        },
        "ea4083af7e7f4f2abec49cabc2dbc299": {
          "model_module": "@jupyter-widgets/controls",
          "model_name": "FloatProgressModel",
          "model_module_version": "1.5.0",
          "state": {
            "_dom_classes": [],
            "_model_module": "@jupyter-widgets/controls",
            "_model_module_version": "1.5.0",
            "_model_name": "FloatProgressModel",
            "_view_count": null,
            "_view_module": "@jupyter-widgets/controls",
            "_view_module_version": "1.5.0",
            "_view_name": "ProgressView",
            "bar_style": "success",
            "description": "",
            "description_tooltip": null,
            "layout": "IPY_MODEL_81324c2ae4cc4c7b94324079e19bb4a0",
            "max": 13077,
            "min": 0,
            "orientation": "horizontal",
            "style": "IPY_MODEL_b96c3c619a5e46f4a7519a199b6f47d5",
            "value": 13077
          }
        },
        "a7013ba08a234878a0d6de040c53f931": {
          "model_module": "@jupyter-widgets/controls",
          "model_name": "HTMLModel",
          "model_module_version": "1.5.0",
          "state": {
            "_dom_classes": [],
            "_model_module": "@jupyter-widgets/controls",
            "_model_module_version": "1.5.0",
            "_model_name": "HTMLModel",
            "_view_count": null,
            "_view_module": "@jupyter-widgets/controls",
            "_view_module_version": "1.5.0",
            "_view_name": "HTMLView",
            "description": "",
            "description_tooltip": null,
            "layout": "IPY_MODEL_eee25cced58642f9a8a8f8e27e0aeec7",
            "placeholder": "​",
            "style": "IPY_MODEL_fc8e350229214cc596f620a452bc610a",
            "value": " 13.1k/13.1k [00:00&lt;00:00, 867kB/s]"
          }
        },
        "95c1a411fcbc4c2eab65f8301e85c936": {
          "model_module": "@jupyter-widgets/base",
          "model_name": "LayoutModel",
          "model_module_version": "1.2.0",
          "state": {
            "_model_module": "@jupyter-widgets/base",
            "_model_module_version": "1.2.0",
            "_model_name": "LayoutModel",
            "_view_count": null,
            "_view_module": "@jupyter-widgets/base",
            "_view_module_version": "1.2.0",
            "_view_name": "LayoutView",
            "align_content": null,
            "align_items": null,
            "align_self": null,
            "border": null,
            "bottom": null,
            "display": null,
            "flex": null,
            "flex_flow": null,
            "grid_area": null,
            "grid_auto_columns": null,
            "grid_auto_flow": null,
            "grid_auto_rows": null,
            "grid_column": null,
            "grid_gap": null,
            "grid_row": null,
            "grid_template_areas": null,
            "grid_template_columns": null,
            "grid_template_rows": null,
            "height": null,
            "justify_content": null,
            "justify_items": null,
            "left": null,
            "margin": null,
            "max_height": null,
            "max_width": null,
            "min_height": null,
            "min_width": null,
            "object_fit": null,
            "object_position": null,
            "order": null,
            "overflow": null,
            "overflow_x": null,
            "overflow_y": null,
            "padding": null,
            "right": null,
            "top": null,
            "visibility": null,
            "width": null
          }
        },
        "bc2f2ffb936249359a221bbe579db4da": {
          "model_module": "@jupyter-widgets/base",
          "model_name": "LayoutModel",
          "model_module_version": "1.2.0",
          "state": {
            "_model_module": "@jupyter-widgets/base",
            "_model_module_version": "1.2.0",
            "_model_name": "LayoutModel",
            "_view_count": null,
            "_view_module": "@jupyter-widgets/base",
            "_view_module_version": "1.2.0",
            "_view_name": "LayoutView",
            "align_content": null,
            "align_items": null,
            "align_self": null,
            "border": null,
            "bottom": null,
            "display": null,
            "flex": null,
            "flex_flow": null,
            "grid_area": null,
            "grid_auto_columns": null,
            "grid_auto_flow": null,
            "grid_auto_rows": null,
            "grid_column": null,
            "grid_gap": null,
            "grid_row": null,
            "grid_template_areas": null,
            "grid_template_columns": null,
            "grid_template_rows": null,
            "height": null,
            "justify_content": null,
            "justify_items": null,
            "left": null,
            "margin": null,
            "max_height": null,
            "max_width": null,
            "min_height": null,
            "min_width": null,
            "object_fit": null,
            "object_position": null,
            "order": null,
            "overflow": null,
            "overflow_x": null,
            "overflow_y": null,
            "padding": null,
            "right": null,
            "top": null,
            "visibility": null,
            "width": null
          }
        },
        "912ac592b88d421cb2a5652fcfe2791c": {
          "model_module": "@jupyter-widgets/controls",
          "model_name": "DescriptionStyleModel",
          "model_module_version": "1.5.0",
          "state": {
            "_model_module": "@jupyter-widgets/controls",
            "_model_module_version": "1.5.0",
            "_model_name": "DescriptionStyleModel",
            "_view_count": null,
            "_view_module": "@jupyter-widgets/base",
            "_view_module_version": "1.2.0",
            "_view_name": "StyleView",
            "description_width": ""
          }
        },
        "81324c2ae4cc4c7b94324079e19bb4a0": {
          "model_module": "@jupyter-widgets/base",
          "model_name": "LayoutModel",
          "model_module_version": "1.2.0",
          "state": {
            "_model_module": "@jupyter-widgets/base",
            "_model_module_version": "1.2.0",
            "_model_name": "LayoutModel",
            "_view_count": null,
            "_view_module": "@jupyter-widgets/base",
            "_view_module_version": "1.2.0",
            "_view_name": "LayoutView",
            "align_content": null,
            "align_items": null,
            "align_self": null,
            "border": null,
            "bottom": null,
            "display": null,
            "flex": null,
            "flex_flow": null,
            "grid_area": null,
            "grid_auto_columns": null,
            "grid_auto_flow": null,
            "grid_auto_rows": null,
            "grid_column": null,
            "grid_gap": null,
            "grid_row": null,
            "grid_template_areas": null,
            "grid_template_columns": null,
            "grid_template_rows": null,
            "height": null,
            "justify_content": null,
            "justify_items": null,
            "left": null,
            "margin": null,
            "max_height": null,
            "max_width": null,
            "min_height": null,
            "min_width": null,
            "object_fit": null,
            "object_position": null,
            "order": null,
            "overflow": null,
            "overflow_x": null,
            "overflow_y": null,
            "padding": null,
            "right": null,
            "top": null,
            "visibility": null,
            "width": null
          }
        },
        "b96c3c619a5e46f4a7519a199b6f47d5": {
          "model_module": "@jupyter-widgets/controls",
          "model_name": "ProgressStyleModel",
          "model_module_version": "1.5.0",
          "state": {
            "_model_module": "@jupyter-widgets/controls",
            "_model_module_version": "1.5.0",
            "_model_name": "ProgressStyleModel",
            "_view_count": null,
            "_view_module": "@jupyter-widgets/base",
            "_view_module_version": "1.2.0",
            "_view_name": "StyleView",
            "bar_color": null,
            "description_width": ""
          }
        },
        "eee25cced58642f9a8a8f8e27e0aeec7": {
          "model_module": "@jupyter-widgets/base",
          "model_name": "LayoutModel",
          "model_module_version": "1.2.0",
          "state": {
            "_model_module": "@jupyter-widgets/base",
            "_model_module_version": "1.2.0",
            "_model_name": "LayoutModel",
            "_view_count": null,
            "_view_module": "@jupyter-widgets/base",
            "_view_module_version": "1.2.0",
            "_view_name": "LayoutView",
            "align_content": null,
            "align_items": null,
            "align_self": null,
            "border": null,
            "bottom": null,
            "display": null,
            "flex": null,
            "flex_flow": null,
            "grid_area": null,
            "grid_auto_columns": null,
            "grid_auto_flow": null,
            "grid_auto_rows": null,
            "grid_column": null,
            "grid_gap": null,
            "grid_row": null,
            "grid_template_areas": null,
            "grid_template_columns": null,
            "grid_template_rows": null,
            "height": null,
            "justify_content": null,
            "justify_items": null,
            "left": null,
            "margin": null,
            "max_height": null,
            "max_width": null,
            "min_height": null,
            "min_width": null,
            "object_fit": null,
            "object_position": null,
            "order": null,
            "overflow": null,
            "overflow_x": null,
            "overflow_y": null,
            "padding": null,
            "right": null,
            "top": null,
            "visibility": null,
            "width": null
          }
        },
        "fc8e350229214cc596f620a452bc610a": {
          "model_module": "@jupyter-widgets/controls",
          "model_name": "DescriptionStyleModel",
          "model_module_version": "1.5.0",
          "state": {
            "_model_module": "@jupyter-widgets/controls",
            "_model_module_version": "1.5.0",
            "_model_name": "DescriptionStyleModel",
            "_view_count": null,
            "_view_module": "@jupyter-widgets/base",
            "_view_module_version": "1.2.0",
            "_view_name": "StyleView",
            "description_width": ""
          }
        },
        "5444dc5e3fbc4111bc8f7380adcaf7b0": {
          "model_module": "@jupyter-widgets/controls",
          "model_name": "HBoxModel",
          "model_module_version": "1.5.0",
          "state": {
            "_dom_classes": [],
            "_model_module": "@jupyter-widgets/controls",
            "_model_module_version": "1.5.0",
            "_model_name": "HBoxModel",
            "_view_count": null,
            "_view_module": "@jupyter-widgets/controls",
            "_view_module_version": "1.5.0",
            "_view_name": "HBoxView",
            "box_style": "",
            "children": [
              "IPY_MODEL_1a73b2a4cb4341ddb0c45db171b857b8",
              "IPY_MODEL_105caacee60f428f97572b1a42d268cf",
              "IPY_MODEL_e6c7c83ecb4346eb81bb10900ec901da"
            ],
            "layout": "IPY_MODEL_858043b75c4e4d5e8ed627603a3dd80d"
          }
        },
        "1a73b2a4cb4341ddb0c45db171b857b8": {
          "model_module": "@jupyter-widgets/controls",
          "model_name": "HTMLModel",
          "model_module_version": "1.5.0",
          "state": {
            "_dom_classes": [],
            "_model_module": "@jupyter-widgets/controls",
            "_model_module_version": "1.5.0",
            "_model_name": "HTMLModel",
            "_view_count": null,
            "_view_module": "@jupyter-widgets/controls",
            "_view_module_version": "1.5.0",
            "_view_name": "HTMLView",
            "description": "",
            "description_tooltip": null,
            "layout": "IPY_MODEL_cea305fa3eb64f73a5c73273d10c764b",
            "placeholder": "​",
            "style": "IPY_MODEL_0a9cc8fbb9024a6b8b1a878a181247ec",
            "value": "config.json: 100%"
          }
        },
        "105caacee60f428f97572b1a42d268cf": {
          "model_module": "@jupyter-widgets/controls",
          "model_name": "FloatProgressModel",
          "model_module_version": "1.5.0",
          "state": {
            "_dom_classes": [],
            "_model_module": "@jupyter-widgets/controls",
            "_model_module_version": "1.5.0",
            "_model_name": "FloatProgressModel",
            "_view_count": null,
            "_view_module": "@jupyter-widgets/controls",
            "_view_module_version": "1.5.0",
            "_view_name": "ProgressView",
            "bar_style": "success",
            "description": "",
            "description_tooltip": null,
            "layout": "IPY_MODEL_3bc6cc4e0222406ba7874c14586cd7f5",
            "max": 70043,
            "min": 0,
            "orientation": "horizontal",
            "style": "IPY_MODEL_497652e478694ed88561141fae01089b",
            "value": 70043
          }
        },
        "e6c7c83ecb4346eb81bb10900ec901da": {
          "model_module": "@jupyter-widgets/controls",
          "model_name": "HTMLModel",
          "model_module_version": "1.5.0",
          "state": {
            "_dom_classes": [],
            "_model_module": "@jupyter-widgets/controls",
            "_model_module_version": "1.5.0",
            "_model_name": "HTMLModel",
            "_view_count": null,
            "_view_module": "@jupyter-widgets/controls",
            "_view_module_version": "1.5.0",
            "_view_name": "HTMLView",
            "description": "",
            "description_tooltip": null,
            "layout": "IPY_MODEL_28c816e2bb8b4e96b4a06c7130840a8c",
            "placeholder": "​",
            "style": "IPY_MODEL_2e207b9e0982498d88f5cc981a9be89b",
            "value": " 70.0k/70.0k [00:00&lt;00:00, 2.94MB/s]"
          }
        },
        "858043b75c4e4d5e8ed627603a3dd80d": {
          "model_module": "@jupyter-widgets/base",
          "model_name": "LayoutModel",
          "model_module_version": "1.2.0",
          "state": {
            "_model_module": "@jupyter-widgets/base",
            "_model_module_version": "1.2.0",
            "_model_name": "LayoutModel",
            "_view_count": null,
            "_view_module": "@jupyter-widgets/base",
            "_view_module_version": "1.2.0",
            "_view_name": "LayoutView",
            "align_content": null,
            "align_items": null,
            "align_self": null,
            "border": null,
            "bottom": null,
            "display": null,
            "flex": null,
            "flex_flow": null,
            "grid_area": null,
            "grid_auto_columns": null,
            "grid_auto_flow": null,
            "grid_auto_rows": null,
            "grid_column": null,
            "grid_gap": null,
            "grid_row": null,
            "grid_template_areas": null,
            "grid_template_columns": null,
            "grid_template_rows": null,
            "height": null,
            "justify_content": null,
            "justify_items": null,
            "left": null,
            "margin": null,
            "max_height": null,
            "max_width": null,
            "min_height": null,
            "min_width": null,
            "object_fit": null,
            "object_position": null,
            "order": null,
            "overflow": null,
            "overflow_x": null,
            "overflow_y": null,
            "padding": null,
            "right": null,
            "top": null,
            "visibility": null,
            "width": null
          }
        },
        "cea305fa3eb64f73a5c73273d10c764b": {
          "model_module": "@jupyter-widgets/base",
          "model_name": "LayoutModel",
          "model_module_version": "1.2.0",
          "state": {
            "_model_module": "@jupyter-widgets/base",
            "_model_module_version": "1.2.0",
            "_model_name": "LayoutModel",
            "_view_count": null,
            "_view_module": "@jupyter-widgets/base",
            "_view_module_version": "1.2.0",
            "_view_name": "LayoutView",
            "align_content": null,
            "align_items": null,
            "align_self": null,
            "border": null,
            "bottom": null,
            "display": null,
            "flex": null,
            "flex_flow": null,
            "grid_area": null,
            "grid_auto_columns": null,
            "grid_auto_flow": null,
            "grid_auto_rows": null,
            "grid_column": null,
            "grid_gap": null,
            "grid_row": null,
            "grid_template_areas": null,
            "grid_template_columns": null,
            "grid_template_rows": null,
            "height": null,
            "justify_content": null,
            "justify_items": null,
            "left": null,
            "margin": null,
            "max_height": null,
            "max_width": null,
            "min_height": null,
            "min_width": null,
            "object_fit": null,
            "object_position": null,
            "order": null,
            "overflow": null,
            "overflow_x": null,
            "overflow_y": null,
            "padding": null,
            "right": null,
            "top": null,
            "visibility": null,
            "width": null
          }
        },
        "0a9cc8fbb9024a6b8b1a878a181247ec": {
          "model_module": "@jupyter-widgets/controls",
          "model_name": "DescriptionStyleModel",
          "model_module_version": "1.5.0",
          "state": {
            "_model_module": "@jupyter-widgets/controls",
            "_model_module_version": "1.5.0",
            "_model_name": "DescriptionStyleModel",
            "_view_count": null,
            "_view_module": "@jupyter-widgets/base",
            "_view_module_version": "1.2.0",
            "_view_name": "StyleView",
            "description_width": ""
          }
        },
        "3bc6cc4e0222406ba7874c14586cd7f5": {
          "model_module": "@jupyter-widgets/base",
          "model_name": "LayoutModel",
          "model_module_version": "1.2.0",
          "state": {
            "_model_module": "@jupyter-widgets/base",
            "_model_module_version": "1.2.0",
            "_model_name": "LayoutModel",
            "_view_count": null,
            "_view_module": "@jupyter-widgets/base",
            "_view_module_version": "1.2.0",
            "_view_name": "LayoutView",
            "align_content": null,
            "align_items": null,
            "align_self": null,
            "border": null,
            "bottom": null,
            "display": null,
            "flex": null,
            "flex_flow": null,
            "grid_area": null,
            "grid_auto_columns": null,
            "grid_auto_flow": null,
            "grid_auto_rows": null,
            "grid_column": null,
            "grid_gap": null,
            "grid_row": null,
            "grid_template_areas": null,
            "grid_template_columns": null,
            "grid_template_rows": null,
            "height": null,
            "justify_content": null,
            "justify_items": null,
            "left": null,
            "margin": null,
            "max_height": null,
            "max_width": null,
            "min_height": null,
            "min_width": null,
            "object_fit": null,
            "object_position": null,
            "order": null,
            "overflow": null,
            "overflow_x": null,
            "overflow_y": null,
            "padding": null,
            "right": null,
            "top": null,
            "visibility": null,
            "width": null
          }
        },
        "497652e478694ed88561141fae01089b": {
          "model_module": "@jupyter-widgets/controls",
          "model_name": "ProgressStyleModel",
          "model_module_version": "1.5.0",
          "state": {
            "_model_module": "@jupyter-widgets/controls",
            "_model_module_version": "1.5.0",
            "_model_name": "ProgressStyleModel",
            "_view_count": null,
            "_view_module": "@jupyter-widgets/base",
            "_view_module_version": "1.2.0",
            "_view_name": "StyleView",
            "bar_color": null,
            "description_width": ""
          }
        },
        "28c816e2bb8b4e96b4a06c7130840a8c": {
          "model_module": "@jupyter-widgets/base",
          "model_name": "LayoutModel",
          "model_module_version": "1.2.0",
          "state": {
            "_model_module": "@jupyter-widgets/base",
            "_model_module_version": "1.2.0",
            "_model_name": "LayoutModel",
            "_view_count": null,
            "_view_module": "@jupyter-widgets/base",
            "_view_module_version": "1.2.0",
            "_view_name": "LayoutView",
            "align_content": null,
            "align_items": null,
            "align_self": null,
            "border": null,
            "bottom": null,
            "display": null,
            "flex": null,
            "flex_flow": null,
            "grid_area": null,
            "grid_auto_columns": null,
            "grid_auto_flow": null,
            "grid_auto_rows": null,
            "grid_column": null,
            "grid_gap": null,
            "grid_row": null,
            "grid_template_areas": null,
            "grid_template_columns": null,
            "grid_template_rows": null,
            "height": null,
            "justify_content": null,
            "justify_items": null,
            "left": null,
            "margin": null,
            "max_height": null,
            "max_width": null,
            "min_height": null,
            "min_width": null,
            "object_fit": null,
            "object_position": null,
            "order": null,
            "overflow": null,
            "overflow_x": null,
            "overflow_y": null,
            "padding": null,
            "right": null,
            "top": null,
            "visibility": null,
            "width": null
          }
        },
        "2e207b9e0982498d88f5cc981a9be89b": {
          "model_module": "@jupyter-widgets/controls",
          "model_name": "DescriptionStyleModel",
          "model_module_version": "1.5.0",
          "state": {
            "_model_module": "@jupyter-widgets/controls",
            "_model_module_version": "1.5.0",
            "_model_name": "DescriptionStyleModel",
            "_view_count": null,
            "_view_module": "@jupyter-widgets/base",
            "_view_module_version": "1.2.0",
            "_view_name": "StyleView",
            "description_width": ""
          }
        },
        "7c4b84a54e6a4b35a4fd349f204147e7": {
          "model_module": "@jupyter-widgets/controls",
          "model_name": "HBoxModel",
          "model_module_version": "1.5.0",
          "state": {
            "_dom_classes": [],
            "_model_module": "@jupyter-widgets/controls",
            "_model_module_version": "1.5.0",
            "_model_name": "HBoxModel",
            "_view_count": null,
            "_view_module": "@jupyter-widgets/controls",
            "_view_module_version": "1.5.0",
            "_view_name": "HBoxView",
            "box_style": "",
            "children": [
              "IPY_MODEL_65320bb22f43487482b45ff3fcfcd33e",
              "IPY_MODEL_00de722ada7446359e8a182ff0292275",
              "IPY_MODEL_419942118cb54014a1adbe2be484446b"
            ],
            "layout": "IPY_MODEL_af3d85682c324ba2a0364b6b2967f1ff"
          }
        },
        "65320bb22f43487482b45ff3fcfcd33e": {
          "model_module": "@jupyter-widgets/controls",
          "model_name": "HTMLModel",
          "model_module_version": "1.5.0",
          "state": {
            "_dom_classes": [],
            "_model_module": "@jupyter-widgets/controls",
            "_model_module_version": "1.5.0",
            "_model_name": "HTMLModel",
            "_view_count": null,
            "_view_module": "@jupyter-widgets/controls",
            "_view_module_version": "1.5.0",
            "_view_name": "HTMLView",
            "description": "",
            "description_tooltip": null,
            "layout": "IPY_MODEL_641e1666f8c8431297a84019adb9162f",
            "placeholder": "​",
            "style": "IPY_MODEL_bfa88ded59514f61b3f63a8c57be2afc",
            "value": "pytorch_model.bin: 100%"
          }
        },
        "00de722ada7446359e8a182ff0292275": {
          "model_module": "@jupyter-widgets/controls",
          "model_name": "FloatProgressModel",
          "model_module_version": "1.5.0",
          "state": {
            "_dom_classes": [],
            "_model_module": "@jupyter-widgets/controls",
            "_model_module_version": "1.5.0",
            "_model_name": "FloatProgressModel",
            "_view_count": null,
            "_view_module": "@jupyter-widgets/controls",
            "_view_module_version": "1.5.0",
            "_view_name": "ProgressView",
            "bar_style": "success",
            "description": "",
            "description_tooltip": null,
            "layout": "IPY_MODEL_c3e74014f2764a7fb6792332be9af704",
            "max": 14380029,
            "min": 0,
            "orientation": "horizontal",
            "style": "IPY_MODEL_6b517a714ceb44c7b61bf60988cbca87",
            "value": 14380029
          }
        },
        "419942118cb54014a1adbe2be484446b": {
          "model_module": "@jupyter-widgets/controls",
          "model_name": "HTMLModel",
          "model_module_version": "1.5.0",
          "state": {
            "_dom_classes": [],
            "_model_module": "@jupyter-widgets/controls",
            "_model_module_version": "1.5.0",
            "_model_name": "HTMLModel",
            "_view_count": null,
            "_view_module": "@jupyter-widgets/controls",
            "_view_module_version": "1.5.0",
            "_view_name": "HTMLView",
            "description": "",
            "description_tooltip": null,
            "layout": "IPY_MODEL_320d347dbe9546dfaf56c014d4db3595",
            "placeholder": "​",
            "style": "IPY_MODEL_2ab3b0607736472f8be06c40117346de",
            "value": " 14.4M/14.4M [00:00&lt;00:00, 95.4MB/s]"
          }
        },
        "af3d85682c324ba2a0364b6b2967f1ff": {
          "model_module": "@jupyter-widgets/base",
          "model_name": "LayoutModel",
          "model_module_version": "1.2.0",
          "state": {
            "_model_module": "@jupyter-widgets/base",
            "_model_module_version": "1.2.0",
            "_model_name": "LayoutModel",
            "_view_count": null,
            "_view_module": "@jupyter-widgets/base",
            "_view_module_version": "1.2.0",
            "_view_name": "LayoutView",
            "align_content": null,
            "align_items": null,
            "align_self": null,
            "border": null,
            "bottom": null,
            "display": null,
            "flex": null,
            "flex_flow": null,
            "grid_area": null,
            "grid_auto_columns": null,
            "grid_auto_flow": null,
            "grid_auto_rows": null,
            "grid_column": null,
            "grid_gap": null,
            "grid_row": null,
            "grid_template_areas": null,
            "grid_template_columns": null,
            "grid_template_rows": null,
            "height": null,
            "justify_content": null,
            "justify_items": null,
            "left": null,
            "margin": null,
            "max_height": null,
            "max_width": null,
            "min_height": null,
            "min_width": null,
            "object_fit": null,
            "object_position": null,
            "order": null,
            "overflow": null,
            "overflow_x": null,
            "overflow_y": null,
            "padding": null,
            "right": null,
            "top": null,
            "visibility": null,
            "width": null
          }
        },
        "641e1666f8c8431297a84019adb9162f": {
          "model_module": "@jupyter-widgets/base",
          "model_name": "LayoutModel",
          "model_module_version": "1.2.0",
          "state": {
            "_model_module": "@jupyter-widgets/base",
            "_model_module_version": "1.2.0",
            "_model_name": "LayoutModel",
            "_view_count": null,
            "_view_module": "@jupyter-widgets/base",
            "_view_module_version": "1.2.0",
            "_view_name": "LayoutView",
            "align_content": null,
            "align_items": null,
            "align_self": null,
            "border": null,
            "bottom": null,
            "display": null,
            "flex": null,
            "flex_flow": null,
            "grid_area": null,
            "grid_auto_columns": null,
            "grid_auto_flow": null,
            "grid_auto_rows": null,
            "grid_column": null,
            "grid_gap": null,
            "grid_row": null,
            "grid_template_areas": null,
            "grid_template_columns": null,
            "grid_template_rows": null,
            "height": null,
            "justify_content": null,
            "justify_items": null,
            "left": null,
            "margin": null,
            "max_height": null,
            "max_width": null,
            "min_height": null,
            "min_width": null,
            "object_fit": null,
            "object_position": null,
            "order": null,
            "overflow": null,
            "overflow_x": null,
            "overflow_y": null,
            "padding": null,
            "right": null,
            "top": null,
            "visibility": null,
            "width": null
          }
        },
        "bfa88ded59514f61b3f63a8c57be2afc": {
          "model_module": "@jupyter-widgets/controls",
          "model_name": "DescriptionStyleModel",
          "model_module_version": "1.5.0",
          "state": {
            "_model_module": "@jupyter-widgets/controls",
            "_model_module_version": "1.5.0",
            "_model_name": "DescriptionStyleModel",
            "_view_count": null,
            "_view_module": "@jupyter-widgets/base",
            "_view_module_version": "1.2.0",
            "_view_name": "StyleView",
            "description_width": ""
          }
        },
        "c3e74014f2764a7fb6792332be9af704": {
          "model_module": "@jupyter-widgets/base",
          "model_name": "LayoutModel",
          "model_module_version": "1.2.0",
          "state": {
            "_model_module": "@jupyter-widgets/base",
            "_model_module_version": "1.2.0",
            "_model_name": "LayoutModel",
            "_view_count": null,
            "_view_module": "@jupyter-widgets/base",
            "_view_module_version": "1.2.0",
            "_view_name": "LayoutView",
            "align_content": null,
            "align_items": null,
            "align_self": null,
            "border": null,
            "bottom": null,
            "display": null,
            "flex": null,
            "flex_flow": null,
            "grid_area": null,
            "grid_auto_columns": null,
            "grid_auto_flow": null,
            "grid_auto_rows": null,
            "grid_column": null,
            "grid_gap": null,
            "grid_row": null,
            "grid_template_areas": null,
            "grid_template_columns": null,
            "grid_template_rows": null,
            "height": null,
            "justify_content": null,
            "justify_items": null,
            "left": null,
            "margin": null,
            "max_height": null,
            "max_width": null,
            "min_height": null,
            "min_width": null,
            "object_fit": null,
            "object_position": null,
            "order": null,
            "overflow": null,
            "overflow_x": null,
            "overflow_y": null,
            "padding": null,
            "right": null,
            "top": null,
            "visibility": null,
            "width": null
          }
        },
        "6b517a714ceb44c7b61bf60988cbca87": {
          "model_module": "@jupyter-widgets/controls",
          "model_name": "ProgressStyleModel",
          "model_module_version": "1.5.0",
          "state": {
            "_model_module": "@jupyter-widgets/controls",
            "_model_module_version": "1.5.0",
            "_model_name": "ProgressStyleModel",
            "_view_count": null,
            "_view_module": "@jupyter-widgets/base",
            "_view_module_version": "1.2.0",
            "_view_name": "StyleView",
            "bar_color": null,
            "description_width": ""
          }
        },
        "320d347dbe9546dfaf56c014d4db3595": {
          "model_module": "@jupyter-widgets/base",
          "model_name": "LayoutModel",
          "model_module_version": "1.2.0",
          "state": {
            "_model_module": "@jupyter-widgets/base",
            "_model_module_version": "1.2.0",
            "_model_name": "LayoutModel",
            "_view_count": null,
            "_view_module": "@jupyter-widgets/base",
            "_view_module_version": "1.2.0",
            "_view_name": "LayoutView",
            "align_content": null,
            "align_items": null,
            "align_self": null,
            "border": null,
            "bottom": null,
            "display": null,
            "flex": null,
            "flex_flow": null,
            "grid_area": null,
            "grid_auto_columns": null,
            "grid_auto_flow": null,
            "grid_auto_rows": null,
            "grid_column": null,
            "grid_gap": null,
            "grid_row": null,
            "grid_template_areas": null,
            "grid_template_columns": null,
            "grid_template_rows": null,
            "height": null,
            "justify_content": null,
            "justify_items": null,
            "left": null,
            "margin": null,
            "max_height": null,
            "max_width": null,
            "min_height": null,
            "min_width": null,
            "object_fit": null,
            "object_position": null,
            "order": null,
            "overflow": null,
            "overflow_x": null,
            "overflow_y": null,
            "padding": null,
            "right": null,
            "top": null,
            "visibility": null,
            "width": null
          }
        },
        "2ab3b0607736472f8be06c40117346de": {
          "model_module": "@jupyter-widgets/controls",
          "model_name": "DescriptionStyleModel",
          "model_module_version": "1.5.0",
          "state": {
            "_model_module": "@jupyter-widgets/controls",
            "_model_module_version": "1.5.0",
            "_model_name": "DescriptionStyleModel",
            "_view_count": null,
            "_view_module": "@jupyter-widgets/base",
            "_view_module_version": "1.2.0",
            "_view_name": "StyleView",
            "description_width": ""
          }
        }
      }
    }
  },
  "nbformat": 4,
  "nbformat_minor": 0
}